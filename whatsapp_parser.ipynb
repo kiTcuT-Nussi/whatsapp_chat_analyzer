{
 "cells": [
  {
   "cell_type": "code",
   "execution_count": null,
   "id": "d4002fc9",
   "metadata": {},
   "outputs": [],
   "source": [
    "import pandas as pd\n",
    "import numpy as np\n",
    "import datetime\n",
    "import matplotlib.pyplot as plt\n",
    "import seaborn as sns\n",
    "import urllib\n",
    "import emoji\n",
    "import re\n",
    "import spacy\n",
    "from wordcloud import WordCloud, STOPWORDS\n",
    "from nltk import ngrams\n",
    "%matplotlib inline"
   ]
  },
  {
   "cell_type": "code",
   "execution_count": null,
   "id": "819304e6",
   "metadata": {},
   "outputs": [],
   "source": [
    "def load_chat(path_to_chat: str) -> list:\n",
    "    with open(path_to_chat, 'r', encoding = 'UTF-8') as infile:\n",
    "        # read whole file\n",
    "        chat = infile.read()\n",
    "        # split lines at newline (not an actual CRLF!)\n",
    "        chat = chat.split('\\n') #type(list)\n",
    "        # remove \\u200e lines since they are only contained in auto generated info messages from Whatsapp\n",
    "        chat = [line for line in chat if r'\\u200e' not in repr(line)]\n",
    "        chat = [line for line in chat if \"Sicherheitsnummer\" not in line]\n",
    "        # delete last entry because it's the file's end and contains only \"\\n\"\n",
    "        del chat[-1]\n",
    "        \n",
    "        return chat #type(list)"
   ]
  },
  {
   "cell_type": "code",
   "execution_count": null,
   "id": "9fe04d97",
   "metadata": {},
   "outputs": [],
   "source": [
    "class UnknownChatFormat(Exception):\n",
    "    '''Raised when chat format or device could not be detected'''\n",
    "    def __init__(self, message=\"Unknown chat format: could not detect if android or iOS was used\"):\n",
    "        self.message = message\n",
    "        super().__init__(self.message)"
   ]
  },
  {
   "cell_type": "code",
   "execution_count": null,
   "id": "ebc4e6a7",
   "metadata": {},
   "outputs": [],
   "source": [
    "def determine_chat_format(chat: list) -> str:\n",
    "    '''find out what device was used to export the chat file.\n",
    "    Android format is different from iOS in terms of timestamp.\n",
    "    iOS: \"[dd.mm.yy, HH:MM:SS]\"\n",
    "    Android: \"dd.mm.yy, HH:MM:SS\"\n",
    "    Basicly the same but without the brackets'''\n",
    "    \n",
    "    # take 20 random messages out of the chat and check their format\n",
    "    ### ANDROID: 0; iOS: 1 ###\n",
    "    \n",
    "    result_list = []\n",
    "    \n",
    "    for n in np.random.randint(0, high=len(chat), size=20):\n",
    "        if str(chat[n]).startswith('['):     \n",
    "            result_list.append(1)\n",
    "        elif str(chat[n])[0].isdigit():\n",
    "            result_list.append(0)\n",
    "        else:\n",
    "            continue\n",
    "    try:\n",
    "        result = sum(result_list) / len(result_list)\n",
    "    except ZeroDivisionError as exp:\n",
    "        raise UnknownChatFormat\n",
    "\n",
    "    if result > 0.9:\n",
    "        return \"ios\"\n",
    "    elif result < 0.1:\n",
    "        return \"android\"\n",
    "    else:\n",
    "        raise UnknownChatFormat()"
   ]
  },
  {
   "cell_type": "code",
   "execution_count": null,
   "id": "31f76bf9",
   "metadata": {},
   "outputs": [],
   "source": [
    "def check_message_integrity_ios(chat:list) -> list:\n",
    "    '''check if line is a valid message with timestamp, sender and message\n",
    "    sometimes lines are cut of by CRLF respectively \\n in this case.\n",
    "    Put split messages back together in this case.'''\n",
    "\n",
    "    ## if it's an iOS chat\n",
    "    # check if all lines start with '[' and get indices of split messages\n",
    "    split_messages_idx = [idx for idx, line in enumerate(chat) if not line.startswith('[')]\n",
    "\n",
    "    # make sure indices are sorted so chat list indices don't get fucked up when deleting indices\n",
    "    for idx in sorted(split_messages_idx, reverse=True):\n",
    "        # iterate over split messages and merge them with the message send before\n",
    "        merged_message = chat[idx-1] + ' ' + chat[idx] #type(str)\n",
    "        chat[idx-1] = merged_message\n",
    "        \n",
    "        # delete split messages by index after merging\n",
    "        del chat[idx]   \n",
    "    \n",
    "    return chat #type(list)"
   ]
  },
  {
   "cell_type": "code",
   "execution_count": null,
   "id": "715eb618",
   "metadata": {},
   "outputs": [],
   "source": [
    "def check_message_integrity_android(chat:list) -> list:\n",
    "    '''check if line is a valid message with timestamp, sender and message\n",
    "    sometimes lines are cut of by CRLF respectively \\n in this case.\n",
    "    Put split messages back together in this case.'''\n",
    "\n",
    "    ## if it's an android chat\n",
    "    # check if all lines start with a timestamp and get indices of split messages\n",
    "    split_messages_idx = []\n",
    "    for idx, line in enumerate(chat):\n",
    "        try:\n",
    "            datetime.datetime.strptime(line[:15], '%d.%m.%y, %H:%M')\n",
    "        except ValueError:\n",
    "            split_messages_idx.append(idx)\n",
    "\n",
    "    # make sure indices are sorted so chat list indices don't get fucked up when deleting indices\n",
    "    for idx in sorted(split_messages_idx, reverse=True):\n",
    "        # iterate over split messages and merge them with the message send before\n",
    "        merged_message = chat[idx-1] + ' ' + chat[idx] #type(str)\n",
    "        chat[idx-1] = merged_message\n",
    "        \n",
    "        # delete split messages by index after merging\n",
    "        del chat[idx]\n",
    "    \n",
    "    return chat #type(list)"
   ]
  },
  {
   "cell_type": "code",
   "execution_count": null,
   "id": "f26f5fba",
   "metadata": {},
   "outputs": [],
   "source": [
    "def parse_date_ios(line: str) -> datetime.datetime:\n",
    "    # split every line of chat between the first brackets\n",
    "    date_string = line.split('[')[1].split(']')[0]\n",
    "    # create datetime obj from remaining date format dd.mm.yy, HH:MM:SS\n",
    "    message_date = datetime.datetime.strptime(date_string, '%d.%m.%y, %H:%M:%S') # type(datetime.datetime)\n",
    "    return message_date"
   ]
  },
  {
   "cell_type": "code",
   "execution_count": null,
   "id": "4ec2d358",
   "metadata": {},
   "outputs": [],
   "source": [
    "def parse_date_android(line: str) -> datetime.datetime:\n",
    "    # split every line of chat after \"-\"\n",
    "    date_string = line.split('-')[0].strip()\n",
    "    # create datetime obj from remaining date format dd.mm.yy, HH:MM:SS\n",
    "    message_date = datetime.datetime.strptime(date_string, '%d.%m.%y, %H:%M') # type(datetime.datetime)\n",
    "    return message_date"
   ]
  },
  {
   "cell_type": "code",
   "execution_count": null,
   "id": "ba8d16bf",
   "metadata": {},
   "outputs": [],
   "source": [
    "def get_message_sender_android(line: str) -> str:\n",
    "    # split string between \"-\" and \":\" to get sender of the message\n",
    "    return line.split('-')[1].split(':')[0].strip()"
   ]
  },
  {
   "cell_type": "code",
   "execution_count": null,
   "id": "9fcc697c",
   "metadata": {},
   "outputs": [],
   "source": [
    "def get_message_sender_ios(line: str) -> str:\n",
    "    # split string between timestamp and \":\" to get sender of the message\n",
    "    return line.split(']')[1].split(':')[0].strip()"
   ]
  },
  {
   "cell_type": "code",
   "execution_count": null,
   "id": "9d8fa190",
   "metadata": {},
   "outputs": [],
   "source": [
    "def chop_message_ios(line: str) -> str:\n",
    "    # chop timestamp and sender to only get raw text\n",
    "    # therefore split at 3rd ':', which indicates message start after sender tag\n",
    "    return line.split(':', 3)[3].strip() #type(str)"
   ]
  },
  {
   "cell_type": "code",
   "execution_count": null,
   "id": "0838fae8",
   "metadata": {},
   "outputs": [],
   "source": [
    "def chop_message_android(line: str) -> str:\n",
    "    # chop timestamp and sender to only get raw text\n",
    "    # therefore split at 2nd ':', which indicates message start after sender tag\n",
    "    return line.split(':', 2)[2].strip() #type(str)"
   ]
  },
  {
   "cell_type": "code",
   "execution_count": null,
   "id": "baece9f4",
   "metadata": {},
   "outputs": [],
   "source": [
    "def guess_christophers_alias(chat_df: pd.core.frame.DataFrame) -> str:\n",
    "    senders = chat_df['sender'].unique()\n",
    "    for elem in senders:\n",
    "        if \"christopher\" in elem.lower() or \"chris\" in elem.lower():\n",
    "            return elem #type(str)"
   ]
  },
  {
   "cell_type": "code",
   "execution_count": null,
   "id": "72bb0a41",
   "metadata": {},
   "outputs": [],
   "source": [
    "def parse_emojis(message: str) -> (list, str):\n",
    "    import emoji\n",
    "    ### GET EMOJI LIST ###\n",
    "    \n",
    "    # decode all emojis into \"demojized\" syntax (e.g. :grinning_face:)\n",
    "    demojized_message = emoji.demojize(message)\n",
    "    # regex the line and look for emojis\n",
    "    demojized_message = re.findall(r'(:[^:]*:)', demojized_message)\n",
    "    # encode into emojis again\n",
    "    emojis_in_message = [emoji.emojize(x, use_aliases=True) for x in demojized_message]\n",
    "    \n",
    "    \n",
    "    ### remove emojis from message ###\n",
    "    \n",
    "    # we need to do it all over again because somehow emoji fucks up string obj\n",
    "    # do it over again and delete emojis from message\n",
    "    demojized_message = emoji.demojize(message)\n",
    "    raw_emojis = re.findall(r'(:[^:]*:)', demojized_message)\n",
    "    # delete all emojis from message\n",
    "    for emoji in raw_emojis:\n",
    "        demojized_message = demojized_message.replace(emoji, '')\n",
    "    \n",
    "    return emojis_in_message, demojized_message"
   ]
  },
  {
   "cell_type": "code",
   "execution_count": null,
   "id": "d2307563",
   "metadata": {},
   "outputs": [],
   "source": [
    "def extract_date_from_timestamp(input_timestamp: datetime.datetime) -> datetime.date:\n",
    "    return input_timestamp.date()"
   ]
  },
  {
   "cell_type": "code",
   "execution_count": null,
   "id": "a8d931ef",
   "metadata": {},
   "outputs": [],
   "source": [
    "def extract_time_from_timestamp(input_timestamp) -> datetime.time:\n",
    "    return input_timestamp.time()"
   ]
  },
  {
   "cell_type": "code",
   "execution_count": null,
   "id": "5ffcd639",
   "metadata": {},
   "outputs": [],
   "source": [
    "def calc_time_diff(chat_df: pd.core.frame.DataFrame) -> pd.core.frame.DataFrame:\n",
    "    \n",
    "    '''\n",
    "    iterate over chat_df and annotate time between messages\n",
    "    \n",
    "    '''\n",
    "    \n",
    "    for idx, row in chat_df.iterrows():\n",
    "\n",
    "        if idx == 0:\n",
    "            # first message has no time diff\n",
    "            continue\n",
    "\n",
    "        timestamp_b = row['timestamp']\n",
    "        timestamp_a = chat_df.iloc[idx-1]['timestamp']\n",
    "        time_delta = timestamp_b - timestamp_a\n",
    "        chat_df.at[idx, 'time_diff'] = time_delta\n",
    "                \n",
    "    return chat_df"
   ]
  },
  {
   "cell_type": "code",
   "execution_count": null,
   "id": "80bcb534",
   "metadata": {},
   "outputs": [],
   "source": [
    "def annotate_message_types(chat_df: pd.core.frame.DataFrame, \n",
    "                      answer_time_threshold: datetime.timedelta=datetime.timedelta(days=2)\n",
    "                     ) -> pd.core.frame.DataFrame:\n",
    "    \n",
    "    '''iterate over chat_df and check if it is an answer, follow up or new initiation\n",
    "    \n",
    "    ################ EXAMPLE ####################\n",
    "    ## [MSG_A] day1 10:00 sender_a: HI!\n",
    "    ## [MSG B] day1 10:05 sender_b: Hi!\n",
    "    ## --> then MSG B is an answer\n",
    "    \n",
    "    ## [MSG_A] day1 10:00 sender_a: bye!\n",
    "    ## [MSG B] day9 12:05 sender_b: long time no see!\n",
    "    ## --> then MSG B is a new initiation\n",
    "    \n",
    "    ## [MSG_A] day1 10:00 sender_a: hello?!?!?!\n",
    "    ## [MSG B] day4 01:05 sender_a: hellooooooo?!\n",
    "    ## --> then MSG B is also a new initiation\n",
    "    \n",
    "    ## [MSG_A] day1 10:00 sender_a: can you bring me something from the store?\n",
    "    ## [MSG B] day1 12:05 sender_a: some milk and icecream!\n",
    "    ## --> then MSG B is a follow up\n",
    "    #############################################\n",
    "    '''\n",
    "    \n",
    "    for idx, row in chat_df.iterrows():\n",
    "\n",
    "        if idx == 0:\n",
    "            # first message is always an initiation and has no time diff or answer time\n",
    "            chat_df.at[idx, 'message_type'] = \"initiation\"\n",
    "            chat_df.at[idx, 'is_media'] = False\n",
    "            continue\n",
    "        \n",
    "        # check if message is a picture or video\n",
    "        if row['raw_message'] == \"<Medien ausgeschlossen>\":\n",
    "            chat_df.at[idx, 'is_media'] = True\n",
    "            chat_df.at[idx, 'raw_message'] = \"\"\n",
    "            chat_df.at[idx, 'message'] = \"\"\n",
    "        else:\n",
    "            chat_df.at[idx, 'is_media'] = False\n",
    "        \n",
    "        \n",
    "        sender_b = row['sender']\n",
    "        sender_a = chat_df.iloc[idx-1]['sender']\n",
    "        time_delta = row['time_diff'] #type(datetime.timedelta)\n",
    "\n",
    "        if sender_b == sender_a:\n",
    "            if time_delta < answer_time_threshold:\n",
    "                # if sender_a and sender_b are the same and time between the two messages is < answer_time_threshold,\n",
    "                # then it's a \"follow up\"\n",
    "                chat_df.at[idx, 'message_type'] = \"follow_up\"\n",
    "\n",
    "            else:\n",
    "                # if between messages is > answer_time_threshold, then it's a new initiation of the conversation\n",
    "                # the recipient didn't respond :(\n",
    "                chat_df.at[idx, 'message_type'] = \"initiation\"\n",
    "\n",
    "\n",
    "        if sender_a != sender_b:\n",
    "            if time_delta < answer_time_threshold:\n",
    "                # if sender_a and sender_b are NOT the same and time between the two messages < answer_time_threshold,\n",
    "                # then it's an answer\n",
    "                chat_df.at[idx, 'message_type'] = \"answer\"\n",
    "                chat_df.at[idx, 'answer_time_seconds'] = time_delta.seconds\n",
    "\n",
    "            else:\n",
    "                # if time is > answer_time_threshold then it's a new initiation (or maybe just a sorry? ¯\\_(ツ)_/¯)\n",
    "                chat_df.at[idx, 'message_type'] = \"initiation\"\n",
    "\n",
    "                \n",
    "    return chat_df"
   ]
  },
  {
   "cell_type": "code",
   "execution_count": null,
   "id": "2ba97d5b",
   "metadata": {},
   "outputs": [],
   "source": [
    "def get_ngrams(text, n):\n",
    "    '''generate a list of all ngrams for a given input spacy doc'''\n",
    "    n_grams = ngrams(text, n)\n",
    "    return [n for n in n_grams]"
   ]
  },
  {
   "cell_type": "code",
   "execution_count": null,
   "id": "8d289e65",
   "metadata": {},
   "outputs": [],
   "source": [
    "def annotate_questions(spacy_doc):\n",
    "    if \"?\" in spacy_doc.text:\n",
    "        return True\n",
    "    else:\n",
    "        return False"
   ]
  },
  {
   "cell_type": "code",
   "execution_count": null,
   "id": "76c422f5",
   "metadata": {},
   "outputs": [],
   "source": [
    "def check_for_url(msg):\n",
    "    if \"www\" in msg or \"http\" in msg:\n",
    "        return True\n",
    "    else:\n",
    "        return False"
   ]
  },
  {
   "cell_type": "code",
   "execution_count": null,
   "id": "1a1ccafb",
   "metadata": {},
   "outputs": [],
   "source": [
    "def parse_chat(path_to_chat: str) -> pd.core.frame.DataFrame:\n",
    "    start_time = datetime.datetime.now()\n",
    "    chat = load_chat(path_to_chat) #type(list)\n",
    "    chat_format = determine_chat_format(chat) #type(str)\n",
    "    \n",
    "    if chat_format.lower() == \"android\":\n",
    "        chat = check_message_integrity_android(chat) #type(list)\n",
    "    elif chat_format.lower() == \"ios\":\n",
    "        chat = check_message_integrity_ios(chat) #type(list)\n",
    "    \n",
    "    raw_message_list = []\n",
    "    messages = []\n",
    "    sender_list = []\n",
    "    timestamps = []\n",
    "    emoji_list = []\n",
    "    \n",
    "    if chat_format.lower() == \"android\":\n",
    "        # iterate over every line (=message) and get attributes\n",
    "        for idx, message in enumerate(chat):\n",
    "            sender_list.append(get_message_sender_android(message))\n",
    "            timestamps.append(parse_date_android(message))\n",
    "            messages.append(chop_message_android(message))\n",
    "            \n",
    "    elif chat_format.lower() == \"ios\":\n",
    "        # iterate over every line (=message) and get attributes\n",
    "        for message in chat:\n",
    "            sender_list.append(get_message_sender_ios(message))\n",
    "            timestamps.append(parse_date_ios(message))\n",
    "            messages.append(chop_message_ios(message))\n",
    "        \n",
    "    # iterate over message and parse / extract emojis\n",
    "    for message in messages:\n",
    "        emojis_, raw_message = parse_emojis(message)\n",
    "        emoji_list.append(emojis_)\n",
    "        raw_message_list.append(raw_message)\n",
    "        \n",
    "    assert len(sender_list) == len(timestamps) == len(messages) == len(emoji_list)\n",
    "    \n",
    "    # create df from the lists\n",
    "    # sort by timestamp because whatsapp logs messages by received timestamp and not by send timestamp\n",
    "    chat_df = pd.DataFrame({\"sender\":sender_list,\n",
    "                            \"timestamp\": timestamps,\n",
    "                            \"message\": messages,\n",
    "                            \"raw_message\": raw_message_list,\n",
    "                            \"emojis\": emoji_list}).sort_values('timestamp').reset_index(drop=True)\n",
    "    \n",
    "    # further timestamp extractions\n",
    "    chat_df['date'] = chat_df['timestamp'].apply(lambda x: extract_date_from_timestamp(x))\n",
    "    chat_df['time'] = chat_df['timestamp'].apply(lambda x: extract_time_from_timestamp(x))\n",
    "    chat_df['weekday'] = chat_df['timestamp'].apply(lambda x: x.strftime('%A'))\n",
    "    chat_df['hour'] = chat_df['time'].apply(lambda x: x.hour)\n",
    "    \n",
    "    # annotations for message type and answer time\n",
    "    chat_df = calc_time_diff(chat_df)\n",
    "    chat_df = annotate_message_types(chat_df)\n",
    "    \n",
    "    # parse urls and get domains\n",
    "    chat_df['has_url'] = chat_df['raw_message'].apply(check_for_url)\n",
    "    chat_df['url_domain'] = chat_df[chat_df['has_url'] == True]['raw_message'].apply(lambda x: urllib.parse.urlparse(x).netloc)\n",
    "    \n",
    "    # initialize NLP model\n",
    "    nlp = spacy.load(\"de_core_news_sm\", exclude=['senter', 'sentencizer', 'attribute_ruler', 'parser', 'morphologizer', 'ner'])\n",
    "    nlp.remove_pipe(\"ner\")\n",
    "    nlp.remove_pipe(\"parser\")\n",
    "    \n",
    "    # add stopwords by hand\n",
    "    customize_stop_words = [\"<\", \"Medium\", \"medium\",\"is\",\"mal\", \"hab\",\"halt\",\"Hab\",\">\",\"ausschließen\", \"?\", \",\", \".\", \"ne\",\n",
    "                           \"n\", \"Okay\", \"okay\", \"nee\", \"de\", \"Medien\", \"medien\", \"net\", \"Nee\", \"irgendwie\", \"au\", \"Is\", \"nix\", \"Nix\", '„', '“',\n",
    "                           \"haja\", \"Haja\", \"grade\", \"echt\", \"voll\", \"glaub\", \"isses\", \"Isses\", \"warn\", \"grad\", \"Grad\", \"Gerade\", \"gerade\"]\n",
    "\n",
    "    for w in customize_stop_words:\n",
    "        nlp.vocab[w].is_stop = True\n",
    "    \n",
    "    # TODO: increase performance by applying all processing with only one big func and iterate only once over df\n",
    "    # NLP parsing\n",
    "    chat_df['spacy_doc'] = chat_df['raw_message'].apply(lambda x: nlp(x.lower()))\n",
    "    chat_df['nouns'] = chat_df['spacy_doc'].apply(lambda doc: [token.text for token in doc if token.pos_ == \"NOUN\" and token.is_stop == False])\n",
    "    chat_df['verbs'] = chat_df['spacy_doc'].apply(lambda doc: [token.text for token in doc if token.pos_ == \"VERB\" and token.is_stop == False])\n",
    "    chat_df['msg_lemmas_stop_removed'] = chat_df['spacy_doc'].apply(lambda doc: [token.lemma_ for token in doc if token.is_stop == False])\n",
    "    chat_df['is_question'] = chat_df['spacy_doc'].apply(annotate_questions)\n",
    "    \n",
    "    # generate ngrams\n",
    "    chat_df['trigrams'] = chat_df['msg_lemmas_stop_removed'].apply(get_ngrams, n=3)\n",
    "    chat_df['bigrams'] = chat_df['msg_lemmas_stop_removed'].apply(get_ngrams, n=2)\n",
    "    \n",
    "    print(f\"took {datetime.datetime.now() - start_time}\")\n",
    "    return chat_df"
   ]
  },
  {
   "cell_type": "code",
   "execution_count": null,
   "id": "b8b23e1f",
   "metadata": {},
   "outputs": [],
   "source": [
    "chat_df = parse_chat('chat_charlotte_fabi.txt')"
   ]
  },
  {
   "cell_type": "code",
   "execution_count": null,
   "id": "ba6387a9",
   "metadata": {},
   "outputs": [],
   "source": [
    "chat_df"
   ]
  },
  {
   "cell_type": "code",
   "execution_count": null,
   "id": "cfa9df1c",
   "metadata": {},
   "outputs": [],
   "source": [
    "#christopher_alias = guess_christophers_alias(chat_df)"
   ]
  },
  {
   "cell_type": "code",
   "execution_count": null,
   "id": "95315720",
   "metadata": {},
   "outputs": [],
   "source": [
    "#christopher_only = chat_df[chat_df['sender'] == christopher_alias]"
   ]
  },
  {
   "cell_type": "markdown",
   "id": "55bb68cc",
   "metadata": {},
   "source": [
    "# NLP stuff"
   ]
  },
  {
   "cell_type": "code",
   "execution_count": null,
   "id": "57e15bab",
   "metadata": {},
   "outputs": [],
   "source": [
    "def get_most_used_words(chat_df):\n",
    "    words = [token for msg in chat_df['msg_lemmas_stop_removed'] for token in msg]\n",
    "    return pd.Series(words).value_counts()"
   ]
  },
  {
   "cell_type": "code",
   "execution_count": null,
   "id": "756014fe",
   "metadata": {},
   "outputs": [],
   "source": [
    "def get_most_used_nouns(chat_df):\n",
    "    words = [token for msg in chat_df['nouns'] for token in msg]\n",
    "    return pd.Series(words).value_counts()"
   ]
  },
  {
   "cell_type": "code",
   "execution_count": null,
   "id": "978de5c6",
   "metadata": {},
   "outputs": [],
   "source": [
    "def get_most_used_verbs(chat_df):\n",
    "    words = [token for msg in chat_df['verbs'] for token in msg]\n",
    "    return pd.Series(words).value_counts().head(50)"
   ]
  },
  {
   "cell_type": "code",
   "execution_count": null,
   "id": "5b5f2ad4",
   "metadata": {},
   "outputs": [],
   "source": [
    "get_most_used_verbs(chat_df)"
   ]
  },
  {
   "cell_type": "code",
   "execution_count": null,
   "id": "3e82944e",
   "metadata": {},
   "outputs": [],
   "source": [
    "get_most_used_nouns(chat_df[chat_df['sender'] == 'Fabi'])"
   ]
  },
  {
   "cell_type": "code",
   "execution_count": null,
   "id": "b9a25aa0",
   "metadata": {},
   "outputs": [],
   "source": [
    "def generate_wordcloud(words_series: pd.core.series.Series):\n",
    "    # Generate word cloud\n",
    "    wordcloud = WordCloud(width = 2000, height = 1000, background_color='black').generate_from_frequencies(words_series)\n",
    "    # Plot\n",
    "    fig, ax = plt.subplots(figsize=(16,8), dpi=400)\n",
    "    plt.axis(\"off\")\n",
    "    plt.imshow(wordcloud, interpolation=\"bilinear\")"
   ]
  },
  {
   "cell_type": "code",
   "execution_count": null,
   "id": "943bfd8d",
   "metadata": {},
   "outputs": [],
   "source": [
    "def get_most_used_bigrams(chat_df):\n",
    "    '''get most frequent bigrams for a input chat'''\n",
    "    bigrams = pd.Series([x for _list in chat_df['bigrams'] for x in _list])\n",
    "    return bigrams.value_counts()"
   ]
  },
  {
   "cell_type": "code",
   "execution_count": null,
   "id": "e3ac574e",
   "metadata": {},
   "outputs": [],
   "source": [
    "def get_most_used_trigrams(chat_df):\n",
    "    '''get most frequent bigrams for a input chat'''\n",
    "    trigrams = pd.Series([x for _list in chat_df['trigrams'] for x in _list])\n",
    "    return trigrams.value_counts()"
   ]
  },
  {
   "cell_type": "code",
   "execution_count": null,
   "id": "d929670e",
   "metadata": {},
   "outputs": [],
   "source": [
    "get_most_used_trigrams(chat_df[chat_df['sender']=='Charlotte'])"
   ]
  },
  {
   "cell_type": "code",
   "execution_count": null,
   "id": "1019e7da",
   "metadata": {},
   "outputs": [],
   "source": [
    "def get_most_used_curse_words(chat_df):\n",
    "    with open('schimpfwortliste.txt', 'r') as infile:\n",
    "        curse_words = infile.readlines()\n",
    "        for idx, word in enumerate(curse_words):\n",
    "            curse_words[idx] = word.replace('\\n', '')\n",
    "\n",
    "    words = get_most_used_words(chat_df)\n",
    "    curse_word_usage = [word for word in words.index if word in curse_words]\n",
    "    return words[curse_word_usage]"
   ]
  },
  {
   "cell_type": "code",
   "execution_count": null,
   "id": "4f73b010",
   "metadata": {},
   "outputs": [],
   "source": [
    "generate_wordcloud(get_most_used_curse_words(chat_df[chat_df['sender'] == 'Fabi']))"
   ]
  },
  {
   "cell_type": "code",
   "execution_count": null,
   "id": "77fe85f6",
   "metadata": {},
   "outputs": [],
   "source": []
  },
  {
   "cell_type": "markdown",
   "id": "74382cc0",
   "metadata": {},
   "source": [
    "# Basic statistics and plots"
   ]
  },
  {
   "cell_type": "code",
   "execution_count": null,
   "id": "da190624",
   "metadata": {},
   "outputs": [],
   "source": [
    "chat_df['url_domain'].value_counts()"
   ]
  },
  {
   "cell_type": "code",
   "execution_count": null,
   "id": "6a5c00fd",
   "metadata": {},
   "outputs": [],
   "source": [
    "def get_mean_messages_per_day(chat_df: pd.core.frame.DataFrame):\n",
    "    # get first and last chat dates and create a range of dates\n",
    "    first_chat_date=chat_df['date'].min()\n",
    "    last_chat_date = chat_df['date'].max()\n",
    "    timeframe = pd.date_range(start=first_chat_date,end=last_chat_date).to_pydatetime() \n",
    "    # -> np.array[datetime.datetime, datetime.datetime, ....], has to be converted into datetime.date!\n",
    "\n",
    "    # iterate over all dates and count how many messages were sent\n",
    "    num_chat_per_day = [chat_df[chat_df['date'] == date.date()].count().values[0] for date in timeframe]\n",
    "    \n",
    "    return np.array(num_chat_per_day).mean()"
   ]
  },
  {
   "cell_type": "code",
   "execution_count": null,
   "id": "f4dae2b1",
   "metadata": {},
   "outputs": [],
   "source": [
    "def plot_daily_activity(chat_df: pd.core.frame.DataFrame):\n",
    "    # get first and last chat dates and create a range of dates\n",
    "    first_chat_date=chat_df['date'].min()\n",
    "    last_chat_date = chat_df['date'].max()\n",
    "    timeframe = pd.date_range(start=first_chat_date,end=last_chat_date).to_pydatetime()\n",
    "\n",
    "    # iterate over all dates and count how many messages were sent\n",
    "    num_chat_per_day = [chat_df[chat_df['date'] == date.date()].count().values[0] for date in timeframe]\n",
    "\n",
    "    fig, ax = plt.subplots(figsize=(16,8), dpi=400)\n",
    "    # plot chat activity by day\n",
    "    ax.plot(timeframe,num_chat_per_day, label='Anzahl Nachrichten pro Tag')\n",
    "    # plot mean value\n",
    "    ax.plot(timeframe, \n",
    "            np.full(timeframe.shape, get_mean_messages_per_day(chat_df)),\n",
    "            '--',\n",
    "            linewidth=3,\n",
    "            label=f'Durchschnitt: {get_mean_messages_per_day(chat_df):.3f}')\n",
    "\n",
    "    # add axis labels and legend\n",
    "    ax.set_ylabel('Anzahl Nachrichten')\n",
    "    ax.set_xlabel('Datum')\n",
    "    ax.set_title('Nachrichten im Zeitverlauf')\n",
    "    ax.legend(title_fontsize='large')"
   ]
  },
  {
   "cell_type": "code",
   "execution_count": null,
   "id": "2ad87b06",
   "metadata": {},
   "outputs": [],
   "source": [
    "plot_daily_activity(chat_df)"
   ]
  },
  {
   "cell_type": "code",
   "execution_count": null,
   "id": "d851dabb",
   "metadata": {},
   "outputs": [],
   "source": [
    "get_mean_messages_per_day(chat_df)"
   ]
  },
  {
   "cell_type": "code",
   "execution_count": null,
   "id": "bae80097",
   "metadata": {},
   "outputs": [],
   "source": [
    "def plot_time_to_answer_weekdays(chat_df: pd.core.frame.DataFrame):\n",
    "    fig1, ax1 = plt.subplots(figsize=(16,8))\n",
    "    ax1 = sns.boxplot(y=chat_df['answer_time_seconds']/60,\n",
    "            x=chat_df['sender'],\n",
    "            hue=chat_df['weekday'],\n",
    "            hue_order=['Monday', 'Tuesday', 'Wednesday', 'Thursday', 'Friday', 'Saturday', 'Sunday'],\n",
    "            showfliers=False)\n",
    "    ax1.set_title('Antwortzeit in Minuten')\n",
    "    ax1.set_ylabel('Antwortzeit in Minuten')\n",
    "    ax1.set_xlabel('Sender')\n",
    "    ax1.legend(bbox_to_anchor=(1.02, 1), loc=2, borderaxespad=0.)\n",
    "    plt.show()"
   ]
  },
  {
   "cell_type": "code",
   "execution_count": null,
   "id": "b7fc506c",
   "metadata": {},
   "outputs": [],
   "source": [
    "plot_time_to_answer_weekdays(chat_df)"
   ]
  },
  {
   "cell_type": "code",
   "execution_count": null,
   "id": "d0a3efb3",
   "metadata": {},
   "outputs": [],
   "source": [
    "def plot_time_to_answer(chat_df: pd.core.frame.DataFrame):\n",
    "    fig1, ax1 = plt.subplots(figsize=(16,8))\n",
    "    ax1 = sns.boxplot(y=chat_df['answer_time_seconds']/60,\n",
    "            x=chat_df['sender'],\n",
    "            showfliers=False)\n",
    "    ax1.set_title('Antwortzeit in Minuten')\n",
    "    ax1.set_ylabel('Antwortzeit in Minuten')\n",
    "    ax1.set_xlabel('Sender')\n",
    "    plt.show()"
   ]
  },
  {
   "cell_type": "code",
   "execution_count": null,
   "id": "e3833cac",
   "metadata": {},
   "outputs": [],
   "source": [
    "plot_time_to_answer(chat_df)"
   ]
  },
  {
   "cell_type": "code",
   "execution_count": null,
   "id": "775c2176",
   "metadata": {},
   "outputs": [],
   "source": [
    "def get_mean_time_to_answer(chat_df: pd.core.frame.DataFrame):\n",
    "    return chat_df['answer_time'].mean()"
   ]
  },
  {
   "cell_type": "code",
   "execution_count": null,
   "id": "d026ef40",
   "metadata": {},
   "outputs": [],
   "source": [
    "def longest_time_of_no_chatting(chat_df):\n",
    "    # get max(time delta) of all messages\n",
    "    return chat_df['time_diff'].max()"
   ]
  },
  {
   "cell_type": "code",
   "execution_count": null,
   "id": "5280b3f9-d16c-42ac-843b-f59ad81fb33b",
   "metadata": {},
   "outputs": [],
   "source": [
    "longest_time_of_no_chatting(chat_df)"
   ]
  },
  {
   "cell_type": "code",
   "execution_count": null,
   "id": "1fbe6c39-f5d4-432d-982f-b2ed54e938a3",
   "metadata": {},
   "outputs": [],
   "source": [
    "def get_initiator_percentage(chat_df):\n",
    "    return chat_df[chat_df['message_type'] == 'initiation']['sender'].value_counts(normalize=True)"
   ]
  },
  {
   "cell_type": "code",
   "execution_count": null,
   "id": "2ac104df-054d-47b2-918c-50fe86ef39be",
   "metadata": {
    "tags": []
   },
   "outputs": [],
   "source": [
    "get_initiator_percentage(chat_df)"
   ]
  },
  {
   "cell_type": "code",
   "execution_count": null,
   "id": "ba4bbe22-6db7-49b6-bb01-e8609d33b723",
   "metadata": {},
   "outputs": [],
   "source": [
    "def get_most_used_emojis(chat_df: pd.core.frame.DataFrame):\n",
    "    emojis = [y for msg in chat_df['emojis'] for y in msg]\n",
    "    return pd.Series(emojis).value_counts().head(5)"
   ]
  },
  {
   "cell_type": "code",
   "execution_count": null,
   "id": "8b7ef9c1",
   "metadata": {},
   "outputs": [],
   "source": [
    "def add_value_labels(ax, spacing=5):\n",
    "    \"\"\"Add labels to the end of each bar in a bar chart.\n",
    "\n",
    "    Arguments:\n",
    "        ax (matplotlib.axes.Axes): The matplotlib object containing the axes\n",
    "            of the plot to annotate.\n",
    "        spacing (int): The distance between the labels and the bars.\n",
    "    \"\"\"\n",
    "\n",
    "    # For each bar: Place a label\n",
    "    for rect in ax.patches:\n",
    "        # Get X and Y placement of label from rect.\n",
    "        y_value = rect.get_height()\n",
    "        x_value = rect.get_x() + rect.get_width() / 2\n",
    "\n",
    "        # Number of points between bar and label. Change to your liking.\n",
    "        space = spacing\n",
    "        # Vertical alignment for positive values\n",
    "        va = 'bottom'\n",
    "\n",
    "        # If value of bar is negative: Place label below bar\n",
    "        if y_value < 0:\n",
    "            # Invert space to place label below\n",
    "            space *= -1\n",
    "            # Vertically align label at top\n",
    "            va = 'top'\n",
    "\n",
    "        # Use Y value as label and format number with one decimal place\n",
    "        label = \"{:.0f}\".format(y_value)\n",
    "\n",
    "        # Create annotation\n",
    "        ax.annotate(\n",
    "            label,\n",
    "            (x_value, y_value),\n",
    "            xytext=(0, space),\n",
    "            textcoords=\"offset points\",\n",
    "            ha='center',\n",
    "            va=va,\n",
    "            fontsize=16)"
   ]
  },
  {
   "cell_type": "code",
   "execution_count": null,
   "id": "f587d16e-3f9f-4ff7-a476-2da1eba06450",
   "metadata": {},
   "outputs": [],
   "source": [
    "def plot_most_used_emojis(chat_df):\n",
    "    fig, ax = plt.subplots(chat_df['sender'].nunique(),1, figsize=(14,8))\n",
    "    fig.suptitle('Meistbenutzte Emojis', fontsize=22)\n",
    "    plt.subplots_adjust(hspace = 0.7)\n",
    "    for idx, sender in enumerate(chat_df['sender'].unique()):\n",
    "        s = get_most_used_emojis(chat_df[chat_df['sender'] == sender])\n",
    "        ax[idx].bar(s.index, s.values, label=sender)\n",
    "        ax[idx].set_xlabel(sender, fontsize=16)\n",
    "        ax[idx].set_ylabel(\"Häufigkeit\", fontsize=16)\n",
    "        ax[idx].xaxis.set_tick_params(labelsize=22)\n",
    "        ax[idx].set_yticks([])\n",
    "        ax[idx].spines['left'].set_visible(False)\n",
    "        ax[idx].spines['right'].set_visible(False)\n",
    "        ax[idx].spines['top'].set_visible(False)\n",
    "        # Call the function above. All the magic happens there.\n",
    "        add_value_labels(ax[idx])\n",
    "    \n",
    "    plt.show()"
   ]
  },
  {
   "cell_type": "code",
   "execution_count": null,
   "id": "b557cf12-6d56-413b-9566-b31c8cff471d",
   "metadata": {
    "tags": []
   },
   "outputs": [],
   "source": [
    "plot_most_used_emojis(chat_df)"
   ]
  },
  {
   "cell_type": "code",
   "execution_count": null,
   "id": "9e5f200d",
   "metadata": {},
   "outputs": [],
   "source": [
    "def get_weekday_activity(chat_df: pd.core.frame.DataFrame, weekday:str):\n",
    "    '''get total number of sent messages during the time of a given weekday'''\n",
    "    \n",
    "    # check if weekday is valid input\n",
    "    if weekday in chat_df['weekday'].values:\n",
    "        pass\n",
    "    else:\n",
    "        raise ValueError()\n",
    "        \n",
    "    # create time range of all 24h of the day\n",
    "    time_range = pd.date_range(\"00:00:00\", periods=24, freq=\"1h\").time\n",
    "    \n",
    "    # iterate over time range and get message count at each hour\n",
    "    msg_counter = []\n",
    "    for time_slot in time_range:\n",
    "        num_msg_per_hour = chat_df[(chat_df['weekday'] == weekday) &\n",
    "                                   (chat_df['hour'] == time_slot.hour)].count().values[0]\n",
    "        msg_counter.append((weekday, time_slot.hour, num_msg_per_hour))\n",
    "        \n",
    "    return msg_counter"
   ]
  },
  {
   "cell_type": "code",
   "execution_count": null,
   "id": "b58a1bb9",
   "metadata": {},
   "outputs": [],
   "source": [
    "def plot_weekday_activity(chat_df: pd.core.frame.DataFrame):\n",
    "    '''plot a heatmap with the chat activity per day and hour'''\n",
    "    \n",
    "    ## data\n",
    "    # prepare data\n",
    "    weekday_df = pd.DataFrame()\n",
    "    for weekday in chat_df['weekday'].unique():\n",
    "        cache_df = pd.DataFrame(get_weekday_activity(chat_df, weekday), columns=['weekday', 'hour', 'message_count'])\n",
    "        weekday_df = weekday_df.append(cache_df)\n",
    "    \n",
    "    # get the df into the right form\n",
    "    weekday_df = weekday_df.set_index(['hour', 'weekday'])\n",
    "    weekday_df = weekday_df.unstack(fill_value = 0)\n",
    "    \n",
    "    # get weekdays into right order\n",
    "    weekday_df = weekday_df.droplevel(0, axis=1)\n",
    "    weekday_df = weekday_df.filter(['Monday', 'Tuesday', 'Wednesday', 'Thursday', 'Friday', 'Saturday', 'Sunday'])\n",
    "    \n",
    "    ## plot\n",
    "    # figure\n",
    "    fig, ax = plt.subplots(figsize=(16, 9), dpi=300)\n",
    "    # plot heatmap\n",
    "    sns.heatmap(data = weekday_df, linewidth=0.2, cmap='Blues')\n",
    "\n",
    "    # yticks\n",
    "    yticks_labels = [\"{time_1:02}:00 - {time_2:02}:00\".format(time_1=x, time_2=x+1) for x in range(24)]\n",
    "    plt.yticks(np.arange(24) + .5, labels=yticks_labels,rotation=0)\n",
    "    # xticks\n",
    "    ax.xaxis.tick_top()\n",
    "    # axis labels\n",
    "    plt.xlabel('')\n",
    "    plt.ylabel('Tageszeit')\n",
    "    # title\n",
    "    plt.title(\"Chataktivität im Tagesverlauf\")"
   ]
  },
  {
   "cell_type": "code",
   "execution_count": null,
   "id": "a4da0191",
   "metadata": {},
   "outputs": [],
   "source": [
    "plot_weekday_activity(chat_df[chat_df['sender'] == 'Charlotte'])"
   ]
  },
  {
   "cell_type": "code",
   "execution_count": null,
   "id": "8c6433ee",
   "metadata": {},
   "outputs": [],
   "source": [
    "weekday_df = pd.DataFrame()\n",
    "for weekday in chat_df['weekday'].unique():\n",
    "    cache_df = pd.DataFrame(get_weekday_activity(chat_df, weekday), columns=['weekday', 'hour', 'message_count'])\n",
    "    weekday_df = weekday_df.append(cache_df)\n",
    "\n",
    "# get the df into the right form\n",
    "weekday_df = weekday_df.set_index(['hour', 'weekday'])\n",
    "weekday_df = weekday_df.unstack(fill_value = 0)\n",
    "\n",
    "# get weekdays into right order\n",
    "weekday_df = weekday_df.droplevel(0, axis=1)\n",
    "weekday_df = weekday_df.filter(['Monday', 'Tuesday', 'Wednesday', 'Thursday', 'Friday', 'Saturday', 'Sunday'])"
   ]
  },
  {
   "cell_type": "code",
   "execution_count": null,
   "id": "21f34e48",
   "metadata": {},
   "outputs": [],
   "source": [
    "generate_wordcloud(chat_df[chat_df['weekday'] == 'Saturday'])"
   ]
  },
  {
   "cell_type": "code",
   "execution_count": null,
   "id": "46091b70",
   "metadata": {},
   "outputs": [],
   "source": [
    "# search for interesting messages\n",
    "interesting_messages = pd.DataFrame()\n",
    "for idx, col in interesting_times.iterrows():\n",
    "    interesting_messages = interesting_messages.append(chat_df[(chat_df['hour'] == col['hour']) & (chat_df['weekday'] == col['weekday'])])"
   ]
  },
  {
   "cell_type": "markdown",
   "id": "0902e689",
   "metadata": {},
   "source": [
    "# to be done:"
   ]
  },
  {
   "cell_type": "code",
   "execution_count": null,
   "id": "eaf76e22",
   "metadata": {},
   "outputs": [],
   "source": [
    "# solve all problems with .apply() :-/ --> way faster and cleaner"
   ]
  },
  {
   "cell_type": "code",
   "execution_count": null,
   "id": "c52124a4-9158-48f2-bf63-268a31d0e0e5",
   "metadata": {},
   "outputs": [],
   "source": [
    "chat_df.columns"
   ]
  },
  {
   "cell_type": "code",
   "execution_count": null,
   "id": "8be26422-53e2-4b4d-bfa0-bd8afc18e096",
   "metadata": {},
   "outputs": [],
   "source": [
    "chat_df['time_diff'].describe()"
   ]
  },
  {
   "cell_type": "code",
   "execution_count": null,
   "id": "c743d9fc",
   "metadata": {},
   "outputs": [],
   "source": [
    "# some function that predicts the \"one long messages\" vs. \"multiple short messages in a row\" type of sender thing"
   ]
  },
  {
   "cell_type": "code",
   "execution_count": null,
   "id": "c1957121",
   "metadata": {},
   "outputs": [],
   "source": [
    "def get_chat_topic_for_peak_chat_activity():\n",
    "    pass\n",
    "\n",
    "# get first and last chat dates and create a range of dates\n",
    "first_chat_date=chat_df['date'].min()\n",
    "last_chat_date = chat_df['date'].max()\n",
    "timeframe = pd.date_range(start=first_chat_date,end=last_chat_date).to_pydatetime()\n",
    "\n",
    "# iterate over all dates and count how many messages were sent\n",
    "num_chat_per_day = [chat_df[chat_df['date'] == date.date()].count().values[0] for date in timeframe]"
   ]
  },
  {
   "cell_type": "code",
   "execution_count": null,
   "id": "b2fe1450-5e3c-4860-9331-058237f97001",
   "metadata": {},
   "outputs": [],
   "source": [
    "def plot_media_sent():\n",
    "    fig, ax = plt.figure(figsize=(16,8), dpi=300)\n",
    "    "
   ]
  },
  {
   "cell_type": "code",
   "execution_count": null,
   "id": "f0bc5c8b",
   "metadata": {},
   "outputs": [],
   "source": [
    "chat_df[chat_df['is_media'] == True]['sender'].value_counts()"
   ]
  }
 ],
 "metadata": {
  "kernelspec": {
   "display_name": "Python 3",
   "language": "python",
   "name": "python3"
  },
  "language_info": {
   "codemirror_mode": {
    "name": "ipython",
    "version": 3
   },
   "file_extension": ".py",
   "mimetype": "text/x-python",
   "name": "python",
   "nbconvert_exporter": "python",
   "pygments_lexer": "ipython3",
   "version": "3.8.10"
  }
 },
 "nbformat": 4,
 "nbformat_minor": 5
}
