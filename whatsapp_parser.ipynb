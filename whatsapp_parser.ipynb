{
 "cells": [
  {
   "cell_type": "code",
   "execution_count": null,
   "metadata": {},
   "outputs": [],
   "source": [
    "import pandas as pd\n",
    "import numpy as np\n",
    "import datetime\n",
    "import matplotlib.pyplot as plt\n",
    "import seaborn as sns\n",
    "import emoji\n",
    "import re"
   ]
  },
  {
   "cell_type": "code",
   "execution_count": null,
   "metadata": {},
   "outputs": [],
   "source": [
    "def load_chat(path_to_chat: str) -> list:\n",
    "    with open(path_to_chat, 'r', encoding = 'UTF-8') as infile:\n",
    "        # read whole file\n",
    "        chat = infile.read()\n",
    "        # split lines at newline (not an actual CRLF!)\n",
    "        chat = chat.split('\\n') #type(list)\n",
    "        # remove \\u200e lines since they are only contained in auto generated info messages from Whatsapp\n",
    "        chat = [line for line in chat if r'\\u200e' not in repr(line)]\n",
    "        chat = [line for line in chat if \"Sicherheitsnummer\" not in line]\n",
    "        # delete last entry because it's the file's end and contains only \"\\n\"\n",
    "        del chat[-1]\n",
    "        \n",
    "        return chat #type(list)"
   ]
  },
  {
   "cell_type": "code",
   "execution_count": null,
   "metadata": {},
   "outputs": [],
   "source": [
    "class UnknownChatFormat(Exception):\n",
    "    '''Raised when chat format or device could not be detected'''\n",
    "    def __init__(self, message=\"Unknown chat format: could not detect if android or iOS was used\"):\n",
    "        self.message = message\n",
    "        super().__init__(self.message)"
   ]
  },
  {
   "cell_type": "code",
   "execution_count": null,
   "metadata": {},
   "outputs": [],
   "source": [
    "def determine_chat_format(chat: list) -> str:\n",
    "    '''find out what device was used to export the chat file.\n",
    "    Android format is different from iOS in terms of timestamp.\n",
    "    iOS: \"[dd.mm.yy, HH:MM:SS]\"\n",
    "    Android: \"dd.mm.yy, HH:MM:SS\"\n",
    "    Basicly the same but without the brackets'''\n",
    "    \n",
    "    # take 20 random messages out of the chat and check their format\n",
    "    ### ANDROID: 0; iOS: 1 ###\n",
    "    \n",
    "    result_list = []\n",
    "    \n",
    "    for n in np.random.randint(0, high=len(chat), size=20):\n",
    "        if str(chat[n]).startswith('['):     \n",
    "            result_list.append(1)\n",
    "        elif str(chat[n])[0].isdigit():\n",
    "            result_list.append(0)\n",
    "        else:\n",
    "            continue\n",
    "    try:\n",
    "        result = sum(result_list) / len(result_list)\n",
    "    except ZeroDivisionError as exp:\n",
    "        raise UnknownChatFormat\n",
    "\n",
    "    if result > 0.9:\n",
    "        return \"ios\"\n",
    "    elif result < 0.1:\n",
    "        return \"android\"\n",
    "    else:\n",
    "        raise UnknownChatFormat()"
   ]
  },
  {
   "cell_type": "code",
   "execution_count": null,
   "metadata": {},
   "outputs": [],
   "source": [
    "def check_message_integrity_ios(chat:list) -> list:\n",
    "    '''check if line is a valid message with timestamp, sender and message\n",
    "    sometimes lines are cut of by CRLF respectively \\n in this case.\n",
    "    Put split messages back together in this case.'''\n",
    "\n",
    "    ## if it's an iOS chat\n",
    "    # check if all lines start with '[' and get indices of split messages\n",
    "    split_messages_idx = [idx for idx, line in enumerate(chat) if not line.startswith('[')]\n",
    "\n",
    "    # make sure indices are sorted so chat list indices don't get fucked up when deleting indices\n",
    "    for idx in sorted(split_messages_idx, reverse=True):\n",
    "        # iterate over split messages and merge them with the message send before\n",
    "        merged_message = chat[idx-1] + ' ' + chat[idx] #type(str)\n",
    "        chat[idx-1] = merged_message\n",
    "        \n",
    "        # delete split messages by index after merging\n",
    "        del chat[idx]   \n",
    "    \n",
    "    return chat #type(list)"
   ]
  },
  {
   "cell_type": "code",
   "execution_count": null,
   "metadata": {},
   "outputs": [],
   "source": [
    "def check_message_integrity_android(chat:list) -> list:\n",
    "    '''check if line is a valid message with timestamp, sender and message\n",
    "    sometimes lines are cut of by CRLF respectively \\n in this case.\n",
    "    Put split messages back together in this case.'''\n",
    "\n",
    "    ## if it's an android chat\n",
    "    # check if all lines start with a timestamp and get indices of split messages\n",
    "    split_messages_idx = []\n",
    "    for idx, line in enumerate(chat):\n",
    "        try:\n",
    "            datetime.datetime.strptime(line[:15], '%d.%m.%y, %H:%M')\n",
    "        except ValueError:\n",
    "            split_messages_idx.append(idx)\n",
    "\n",
    "    # make sure indices are sorted so chat list indices don't get fucked up when deleting indices\n",
    "    for idx in sorted(split_messages_idx, reverse=True):\n",
    "        # iterate over split messages and merge them with the message send before\n",
    "        merged_message = chat[idx-1] + ' ' + chat[idx] #type(str)\n",
    "        chat[idx-1] = merged_message\n",
    "        \n",
    "        # delete split messages by index after merging\n",
    "        del chat[idx]\n",
    "    \n",
    "    return chat #type(list)"
   ]
  },
  {
   "cell_type": "code",
   "execution_count": null,
   "metadata": {},
   "outputs": [],
   "source": [
    "def parse_date_ios(line: str) -> datetime.datetime:\n",
    "    # split every line of chat between the first brackets\n",
    "    date_string = line.split('[')[1].split(']')[0]\n",
    "    # create datetime obj from remaining date format dd.mm.yy, HH:MM:SS\n",
    "    message_date = datetime.datetime.strptime(date_string, '%d.%m.%y, %H:%M:%S') # type(datetime.datetime)\n",
    "    return message_date"
   ]
  },
  {
   "cell_type": "code",
   "execution_count": null,
   "metadata": {},
   "outputs": [],
   "source": [
    "def parse_date_android(line: str) -> datetime.datetime:\n",
    "    # split every line of chat after \"-\"\n",
    "    date_string = line.split('-')[0].strip()\n",
    "    # create datetime obj from remaining date format dd.mm.yy, HH:MM:SS\n",
    "    message_date = datetime.datetime.strptime(date_string, '%d.%m.%y, %H:%M') # type(datetime.datetime)\n",
    "    return message_date"
   ]
  },
  {
   "cell_type": "code",
   "execution_count": null,
   "metadata": {},
   "outputs": [],
   "source": [
    "def get_message_sender_android(line: str) -> str:\n",
    "    # split string between \"-\" and \":\" to get sender of the message\n",
    "    return line.split('-')[1].split(':')[0].strip()"
   ]
  },
  {
   "cell_type": "code",
   "execution_count": null,
   "metadata": {},
   "outputs": [],
   "source": [
    "def get_message_sender_ios(line: str) -> str:\n",
    "    # split string between timestamp and \":\" to get sender of the message\n",
    "    return line.split(']')[1].split(':')[0].strip()"
   ]
  },
  {
   "cell_type": "code",
   "execution_count": null,
   "metadata": {},
   "outputs": [],
   "source": [
    "def chop_message_ios(line: str) -> str:\n",
    "    # chop timestamp and sender to only get raw text\n",
    "    # therefore split at 3rd ':', which indicates message start after sender tag\n",
    "    return line.split(':')[3].strip() #type(str)"
   ]
  },
  {
   "cell_type": "code",
   "execution_count": null,
   "metadata": {},
   "outputs": [],
   "source": [
    "def chop_message_android(line: str) -> str:\n",
    "    # chop timestamp and sender to only get raw text\n",
    "    # therefore split at 2nd ':', which indicates message start after sender tag\n",
    "    return line.split(':')[2].strip() #type(str)"
   ]
  },
  {
   "cell_type": "code",
   "execution_count": null,
   "metadata": {},
   "outputs": [],
   "source": [
    "def guess_christophers_alias(chat_df: pd.core.frame.DataFrame) -> str:\n",
    "    senders = chat_df['sender'].unique()\n",
    "    for elem in senders:\n",
    "        if \"christopher\" in elem.lower() or \"chris\" in elem.lower():\n",
    "            return elem #type(str)"
   ]
  },
  {
   "cell_type": "code",
   "execution_count": null,
   "metadata": {},
   "outputs": [],
   "source": [
    "def parse_emojis(message: str) -> (list, str):\n",
    "    import emoji\n",
    "    ### GET EMOJI LIST ###\n",
    "    \n",
    "    # decode all emojis into \"demojized\" syntax (e.g. :grinning_face:)\n",
    "    demojized_message = emoji.demojize(message)\n",
    "    # regex the line and look for emojis\n",
    "    demojized_message = re.findall(r'(:[^:]*:)', demojized_message)\n",
    "    # encode into emojis again\n",
    "    emojis_in_message = [emoji.emojize(x, use_aliases=True) for x in demojized_message]\n",
    "    \n",
    "    \n",
    "    ### remove emojis from message ###\n",
    "    \n",
    "    # we need to do it all over again because somehow emoji fucks up string obj\n",
    "    # do it over again and delete emojis from message\n",
    "    demojized_message = emoji.demojize(message)\n",
    "    raw_emojis = re.findall(r'(:[^:]*:)', demojized_message)\n",
    "    # delete all emojis from message\n",
    "    for emoji in raw_emojis:\n",
    "        demojized_message = demojized_message.replace(emoji, '')\n",
    "    \n",
    "    return emojis_in_message, demojized_message"
   ]
  },
  {
   "cell_type": "code",
   "execution_count": null,
   "metadata": {},
   "outputs": [],
   "source": [
    "def extract_date_from_timestamp(input_timestamp: datetime.datetime) -> datetime.date:\n",
    "    return input_timestamp.date()"
   ]
  },
  {
   "cell_type": "code",
   "execution_count": null,
   "metadata": {},
   "outputs": [],
   "source": [
    "def extract_time_from_timestamp(input_timestamp) -> datetime.time:\n",
    "    return input_timestamp.time()"
   ]
  },
  {
   "cell_type": "code",
   "execution_count": null,
   "metadata": {},
   "outputs": [],
   "source": [
    "def calc_time_diff(chat_df: pd.core.frame.DataFrame) -> pd.core.frame.DataFrame:\n",
    "    \n",
    "    '''\n",
    "    iterate over chat_df and annotate time between messages\n",
    "    \n",
    "    '''\n",
    "    \n",
    "    for idx, row in chat_df.iterrows():\n",
    "\n",
    "        if idx == 0:\n",
    "            # first message has no time diff\n",
    "            continue\n",
    "\n",
    "        timestamp_b = row['timestamp']\n",
    "        timestamp_a = chat_df.iloc[idx-1]['timestamp']\n",
    "        time_delta = timestamp_b - timestamp_a\n",
    "        chat_df.at[idx, 'time_diff'] = time_delta\n",
    "                \n",
    "    return chat_df"
   ]
  },
  {
   "cell_type": "code",
   "execution_count": null,
   "metadata": {},
   "outputs": [],
   "source": [
    "def annotate_message_types(chat_df: pd.core.frame.DataFrame, \n",
    "                      answer_time_threshold: datetime.timedelta=datetime.timedelta(days=2)\n",
    "                     ) -> pd.core.frame.DataFrame:\n",
    "    \n",
    "    '''iterate over chat_df and check if it is an answer, follow up or new initiation\n",
    "    \n",
    "    ################ EXAMPLE ####################\n",
    "    ## [MSG_A] day1 10:00 sender_a: HI!\n",
    "    ## [MSG B] day1 10:05 sender_b: Hi!\n",
    "    ## --> then MSG B is an answer\n",
    "    \n",
    "    ## [MSG_A] day1 10:00 sender_a: bye!\n",
    "    ## [MSG B] day9 12:05 sender_b: long time no see, cunt!\n",
    "    ## --> then MSG B is a new initiation\n",
    "    \n",
    "    ## [MSG_A] day1 10:00 sender_a: hello?!?!?!\n",
    "    ## [MSG B] day4 01:05 sender_a: fuxk yoi you piecr of ssshit!\n",
    "    ## --> then MSG B is also a new initiation\n",
    "    \n",
    "    ## [MSG_A] day1 10:00 sender_a: can you bring me something from the store?\n",
    "    ## [MSG B] day1 12:05 sender_a: some milk and icecream!\n",
    "    ## --> then MSG B is a follow up\n",
    "    #############################################\n",
    "    '''\n",
    "    \n",
    "    for idx, row in chat_df.iterrows():\n",
    "\n",
    "        if idx == 0:\n",
    "            # first message is always an initiation and has no time diff or answer time\n",
    "            chat_df.at[0, 'message_type'] = \"initiation\"\n",
    "            continue\n",
    "        \n",
    "        # check if message is a picture or video\n",
    "        if row['raw_message'] == \"<Medien ausgeschlossen>\":\n",
    "            chat_df.at[idx, 'is_media'] = True\n",
    "        else:\n",
    "            chat_df.at[idx, 'is_media'] = False\n",
    "        \n",
    "        \n",
    "        sender_b = row['sender']\n",
    "        sender_a = chat_df.iloc[idx-1]['sender']\n",
    "        time_delta = row['time_diff'] #type(datetime.timedelta)\n",
    "\n",
    "        if sender_b == sender_a:\n",
    "            if time_delta < answer_time_threshold:\n",
    "                # if sender_a and sender_b are the same and time between the two messages is < answer_time_threshold,\n",
    "                # then it's a \"follow up\"\n",
    "                chat_df.at[idx, 'message_type'] = \"follow_up\"\n",
    "\n",
    "            else:\n",
    "                # if between messages is > answer_time_threshold, then it's a new initiation of the conversation\n",
    "                # the recipient didn't respond :(\n",
    "                chat_df.at[idx, 'message_type'] = \"initiation\"\n",
    "\n",
    "\n",
    "        if sender_a != sender_b:\n",
    "            if time_delta < answer_time_threshold:\n",
    "                # if sender_a and sender_b are NOT the same and time between the two messages < answer_time_threshold,\n",
    "                # then it's an answer\n",
    "                chat_df.at[idx, 'message_type'] = \"answer\"\n",
    "                chat_df.at[idx, 'answer_time_seconds'] = time_delta.seconds\n",
    "\n",
    "            else:\n",
    "                # if time is > answer_time_threshold then it's a new initiation (or maybe just a sorry? ¯\\_(ツ)_/¯)\n",
    "                chat_df.at[idx, 'message_type'] = \"initiation\"\n",
    "\n",
    "                \n",
    "    return chat_df"
   ]
  },
  {
   "cell_type": "code",
   "execution_count": null,
   "metadata": {},
   "outputs": [],
   "source": [
    "def parse_chat(path_to_chat: str) -> pd.core.frame.DataFrame:\n",
    "    chat = load_chat(path_to_chat) #type(list)\n",
    "    chat_format = determine_chat_format(chat) #type(str)\n",
    "    \n",
    "    if chat_format.lower() == \"android\":\n",
    "        chat = check_message_integrity_android(chat) #type(list)\n",
    "    elif chat_format.lower() == \"ios\":\n",
    "        chat = check_message_integrity_ios(chat) #type(list)\n",
    "    \n",
    "    raw_message_list = []\n",
    "    messages = []\n",
    "    sender_list = []\n",
    "    timestamps = []\n",
    "    emoji_list = []\n",
    "    \n",
    "    if chat_format.lower() == \"android\":\n",
    "        # iterate over every line (=message) and get attributes\n",
    "        for idx, message in enumerate(chat):\n",
    "            sender_list.append(get_message_sender_android(message))\n",
    "            timestamps.append(parse_date_android(message))\n",
    "            messages.append(chop_message_android(message))\n",
    "            \n",
    "    elif chat_format.lower() == \"ios\":\n",
    "        # iterate over every line (=message) and get attributes\n",
    "        for message in chat:\n",
    "            sender_list.append(get_message_sender_ios(message))\n",
    "            timestamps.append(parse_date_ios(message))\n",
    "            messages.append(chop_message_ios(message))\n",
    "        \n",
    "    # iterate over message and parse / extract emojis\n",
    "    for message in messages:\n",
    "        emojis_, raw_message = parse_emojis(message)\n",
    "        emoji_list.append(emojis_)\n",
    "        raw_message_list.append(raw_message)\n",
    "        \n",
    "    assert len(sender_list) == len(timestamps) == len(messages) == len(emoji_list)\n",
    "    \n",
    "    # create df from the lists\n",
    "    chat_df = pd.DataFrame({\"sender\":sender_list,\n",
    "                            \"timestamp\": timestamps,\n",
    "                            \"message\": messages,\n",
    "                            \"raw_message\": raw_message_list,\n",
    "                            \"emojis\": emoji_list})\n",
    "    \n",
    "    # further timestamp extractions\n",
    "    chat_df['date'] = chat_df['timestamp'].apply(lambda x: extract_date_from_timestamp(x))\n",
    "    chat_df['time'] = chat_df['timestamp'].apply(lambda x: extract_time_from_timestamp(x))\n",
    "    chat_df['weekday'] = chat_df['timestamp'].apply(lambda x: x.strftime('%A'))\n",
    "    \n",
    "    # annotations for message type and answer time\n",
    "    chat_df = calc_time_diff(chat_df)\n",
    "    chat_df = annotate_message_types(chat_df)\n",
    "    \n",
    "    \n",
    "    return chat_df"
   ]
  },
  {
   "cell_type": "code",
   "execution_count": null,
   "metadata": {},
   "outputs": [],
   "source": [
    "chat_df = parse_chat('chat_charlotte_fabi.txt')"
   ]
  },
  {
   "cell_type": "code",
   "execution_count": null,
   "metadata": {},
   "outputs": [],
   "source": [
    "chat_df"
   ]
  },
  {
   "cell_type": "code",
   "execution_count": null,
   "metadata": {},
   "outputs": [],
   "source": [
    " christopher_alias = guess_christophers_alias(chat_df)"
   ]
  },
  {
   "cell_type": "code",
   "execution_count": null,
   "metadata": {},
   "outputs": [],
   "source": [
    "christopher_only = chat_df[chat_df['sender'] == christopher_alias]"
   ]
  },
  {
   "cell_type": "code",
   "execution_count": null,
   "metadata": {},
   "outputs": [],
   "source": [
    "christopher_only"
   ]
  },
  {
   "cell_type": "code",
   "execution_count": null,
   "metadata": {},
   "outputs": [],
   "source": [
    "def plot_daily_activity(chat_df: pd.core.frame.DataFrame):\n",
    "    # get first and last chat dates and create a range of dates\n",
    "    first_chat_date=chat_df['date'].min()\n",
    "    last_chat_date = chat_df['date'].max()\n",
    "    timeframe = pd.date_range(start=first_chat_date,end=last_chat_date).to_pydatetime()\n",
    "\n",
    "    # iterate over all dates and count how many messages were sent\n",
    "    num_chat_per_day = [chat_df[chat_df['date'] == date.date()].count().values[0] for date in timeframe]\n",
    "\n",
    "    fig, ax = plt.subplots(figsize=(16,8))\n",
    "    # plot chat activity by day\n",
    "    ax.plot(timeframe,num_chat_per_day, label='Anzahl Nachrichten pro Tag')\n",
    "    # plot mean value\n",
    "    ax.plot(timeframe, np.full(timeframe.shape, get_mean_messages_per_day(chat_df)), '--',linewidth=3, label=f'Durchschnitt: {get_mean_messages_per_day(chat_df):.3f}')\n",
    "\n",
    "    # add axis labels and legend\n",
    "    ax.set_ylabel('Anzahl Nachrichten')\n",
    "    ax.set_xlabel('Datum')\n",
    "    ax.set_title('Nachrichten im Zeitverlauf')\n",
    "    ax.legend(title_fontsize='large')"
   ]
  },
  {
   "cell_type": "code",
   "execution_count": null,
   "metadata": {},
   "outputs": [],
   "source": [
    "def get_mean_messages_per_day(chat_df: pd.core.frame.DataFrame):\n",
    "    # get first and last chat dates and create a range of dates\n",
    "    first_chat_date=chat_df['date'].min()\n",
    "    last_chat_date = chat_df['date'].max()\n",
    "    timeframe = pd.date_range(start=first_chat_date,end=last_chat_date).to_pydatetime() \n",
    "    # -> np.array[datetime.datetime, datetime.datetime, ....], has to be converted into datetime.date!\n",
    "\n",
    "    # iterate over all dates and count how many messages were sent\n",
    "    num_chat_per_day = [chat_df[chat_df['date'] == date.date()].count().values[0] for date in timeframe]\n",
    "    \n",
    "    return np.array(num_chat_per_day).mean()"
   ]
  },
  {
   "cell_type": "code",
   "execution_count": null,
   "metadata": {},
   "outputs": [],
   "source": [
    "plot_daily_activity(chat_df)"
   ]
  },
  {
   "cell_type": "code",
   "execution_count": null,
   "metadata": {},
   "outputs": [],
   "source": [
    "get_mean_messages_per_day(chat_df)"
   ]
  },
  {
   "cell_type": "code",
   "execution_count": null,
   "metadata": {},
   "outputs": [],
   "source": [
    "def plot_time_to_answer_weekdays(chat_df: pd.core.frame.DataFrame):\n",
    "    fig1, ax1 = plt.subplots(figsize=(16,8))\n",
    "    ax1 = sns.boxplot(y=chat_df['answer_time_seconds']/60,\n",
    "            x=chat_df['sender'],\n",
    "            hue=chat_df['weekday'],\n",
    "            hue_order=['Monday', 'Tuesday', 'Wednesday', 'Thursday', 'Friday', 'Saturday', 'Sunday'],\n",
    "            showfliers=False)\n",
    "    ax1.set_title('Antwortzeit in Minuten')\n",
    "    ax1.set_ylabel('Antwortzeit in Minuten')\n",
    "    ax1.set_xlabel('Sender')\n",
    "    ax1.legend(bbox_to_anchor=(1.02, 1), loc=2, borderaxespad=0.)\n",
    "    plt.show()"
   ]
  },
  {
   "cell_type": "code",
   "execution_count": null,
   "metadata": {},
   "outputs": [],
   "source": [
    "plot_time_to_answer_weekdays(chat_df)"
   ]
  },
  {
   "cell_type": "code",
   "execution_count": null,
   "metadata": {},
   "outputs": [],
   "source": [
    "def plot_time_to_answer(chat_df: pd.core.frame.DataFrame):\n",
    "    fig1, ax1 = plt.subplots(figsize=(16,8))\n",
    "    ax1 = sns.boxplot(y=chat_df['answer_time_seconds']/60,\n",
    "            x=chat_df['sender'],\n",
    "            showfliers=False)\n",
    "    ax1.set_title('Antwortzeit in Minuten')\n",
    "    ax1.set_ylabel('Antwortzeit in Minuten')\n",
    "    ax1.set_xlabel('Sender')\n",
    "    plt.show()"
   ]
  },
  {
   "cell_type": "code",
   "execution_count": null,
   "metadata": {},
   "outputs": [],
   "source": [
    "plot_time_to_answer(chat_df)"
   ]
  },
  {
   "cell_type": "code",
   "execution_count": null,
   "metadata": {},
   "outputs": [],
   "source": [
    "def get_mean_time_to_answer(chat_df: pd.core.frame.DataFrame):\n",
    "    return chat_df['answer_time'].mean()"
   ]
  },
  {
   "cell_type": "code",
   "execution_count": null,
   "metadata": {},
   "outputs": [],
   "source": [
    "def longest_time_of_no_chatting(chat_df):\n",
    "    # get time delta of all \"initiations\" and get max()\n",
    "    time_delta = []\n",
    "    for idx, row in chat_df.iterrows():\n",
    "        if idx == 0:\n",
    "            # skip first row\n",
    "            continue\n",
    "        if row['message_type'] == 'initiation':\n",
    "            sender_a = row['sender']\n",
    "            sender_b = chat_df.iloc[idx-1]['sender']\n",
    "            if sender_a != sender_b:\n",
    "                time_delta.append(chat_df.iloc[idx]['timestamp'] - chat_df.iloc[idx-1]['timestamp'])\n",
    "    \n",
    "    return sorted(time_delta, reverse=True)[0]"
   ]
  },
  {
   "cell_type": "markdown",
   "metadata": {},
   "source": [
    "# to be done:"
   ]
  },
  {
   "cell_type": "code",
   "execution_count": null,
   "metadata": {},
   "outputs": [],
   "source": [
    "# solve all problems with .apply() :-/ --> way faster and cleaner"
   ]
  },
  {
   "cell_type": "code",
   "execution_count": null,
   "metadata": {},
   "outputs": [],
   "source": [
    "def get_time_diff_dist():\n",
    "    # return statistics about time between messages to make a more reliable answer_time_threshold\n",
    "    # see: annotate_message_types_and_time_diff()\n",
    "    # could be re-done with adjusted answer_time_threshold"
   ]
  },
  {
   "cell_type": "code",
   "execution_count": null,
   "metadata": {},
   "outputs": [],
   "source": [
    "def get_initiator_percentage():\n",
    "    pass"
   ]
  },
  {
   "cell_type": "code",
   "execution_count": null,
   "metadata": {},
   "outputs": [],
   "source": [
    "# some function that predicts the \"one long messages\" vs. \"multiple short messages in a row\" type of sender thing"
   ]
  },
  {
   "cell_type": "code",
   "execution_count": null,
   "metadata": {},
   "outputs": [],
   "source": [
    "def most_used_words(chat_df: pd.core.frame.DataFrame, christopher_alias: str):\n",
    "    pass"
   ]
  },
  {
   "cell_type": "code",
   "execution_count": null,
   "metadata": {},
   "outputs": [],
   "source": [
    "def most_used_emoji(chat_df: pd.core.frame.DataFrame, christopher_alias: str):\n",
    "    pass\n",
    "# messages with at least one emoji\n",
    "chat_df[chat_df['emojis'].str.len().gt(0)]\n",
    "    \n",
    "# flatten emoji list\n",
    "#emoji_list = [item for sublist in emoji_list for item in sublist]\n",
    "\n",
    "# get messages with at least one emoji\n",
    "#chat_df[chat_df['emojis'].str.len().gt(0)]\n",
    "\n",
    "# emojize all raw emojis\n",
    "#list_emoji = [emoji.emojize(x) for x in text]"
   ]
  },
  {
   "cell_type": "code",
   "execution_count": null,
   "metadata": {},
   "outputs": [],
   "source": [
    "def get_chat_topic_for_peak_chat_activity():\n",
    "    pass"
   ]
  },
  {
   "cell_type": "code",
   "execution_count": null,
   "metadata": {},
   "outputs": [],
   "source": [
    "# more nlp stuff"
   ]
  },
  {
   "cell_type": "code",
   "execution_count": null,
   "metadata": {},
   "outputs": [],
   "source": [
    "# regex links, resolve them and do google / wikipedia search? Maybe to intimate"
   ]
  },
  {
   "cell_type": "code",
   "execution_count": null,
   "metadata": {},
   "outputs": [],
   "source": [
    "# progress bar or some kind of feedback"
   ]
  },
  {
   "cell_type": "code",
   "execution_count": null,
   "metadata": {},
   "outputs": [],
   "source": [
    "# logging"
   ]
  },
  {
   "cell_type": "code",
   "execution_count": null,
   "metadata": {},
   "outputs": [],
   "source": [
    "# API?"
   ]
  },
  {
   "cell_type": "code",
   "execution_count": null,
   "metadata": {},
   "outputs": [],
   "source": []
  },
  {
   "cell_type": "code",
   "execution_count": null,
   "metadata": {},
   "outputs": [],
   "source": []
  }
 ],
 "metadata": {
  "kernelspec": {
   "display_name": "Python 3",
   "language": "python",
   "name": "python3"
  },
  "language_info": {
   "codemirror_mode": {
    "name": "ipython",
    "version": 3
   },
   "file_extension": ".py",
   "mimetype": "text/x-python",
   "name": "python",
   "nbconvert_exporter": "python",
   "pygments_lexer": "ipython3",
   "version": "3.8.5"
  }
 },
 "nbformat": 4,
 "nbformat_minor": 5
}
