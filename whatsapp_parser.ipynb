{
 "cells": [
  {
   "cell_type": "code",
   "execution_count": null,
   "id": "d4002fc9",
   "metadata": {},
   "outputs": [],
   "source": [
    "import pandas as pd\n",
    "import numpy as np\n",
    "import datetime\n",
    "import matplotlib.pyplot as plt\n",
    "import seaborn as sns\n",
    "import urllib\n",
    "import emoji as emoji_util\n",
    "import re\n",
    "import spacy\n",
    "from wordcloud import WordCloud, STOPWORDS\n",
    "from nltk import ngrams\n",
    "import chart_studio.plotly as py\n",
    "import cufflinks as cf\n",
    "import plotly.express as px\n",
    "import plotly.graph_objects as go\n",
    "from scipy.signal import find_peaks\n",
    "from plotly.offline import download_plotlyjs, init_notebook_mode, plot, iplot\n",
    "init_notebook_mode(connected=False)\n",
    "cf.go_offline()\n",
    "%matplotlib inline\n",
    "import whatsapp_parser"
   ]
  },
  {
   "cell_type": "code",
   "execution_count": null,
   "id": "a7cc1df3",
   "metadata": {},
   "outputs": [],
   "source": [
    "import matplotlib.font_manager\n",
    "font_files = matplotlib.font_manager.findSystemFonts(fontpaths=None, fontext='ttf')\n",
    "for font_file in font_files:\n",
    "    matplotlib.font_manager.fontManager.addfont(font_file)"
   ]
  },
  {
   "cell_type": "code",
   "execution_count": null,
   "id": "e5f980d0",
   "metadata": {},
   "outputs": [],
   "source": [
    "chat = whatsapp_parser.Chat('beispiel_chats/asd.txt', True, 'ger')"
   ]
  },
  {
   "cell_type": "code",
   "execution_count": null,
   "id": "bec9316b",
   "metadata": {},
   "outputs": [],
   "source": [
    "chat.parse_chat()"
   ]
  },
  {
   "cell_type": "code",
   "execution_count": null,
   "id": "0b00b571",
   "metadata": {},
   "outputs": [],
   "source": [
    "chat.chat_df"
   ]
  },
  {
   "cell_type": "code",
   "execution_count": null,
   "id": "4d685580",
   "metadata": {},
   "outputs": [],
   "source": [
    "chat.chat_df[chat.chat_df['is_image'] == True]"
   ]
  },
  {
   "cell_type": "markdown",
   "id": "88928e82",
   "metadata": {},
   "source": [
    "### Print Basic Information"
   ]
  },
  {
   "cell_type": "code",
   "execution_count": null,
   "id": "57d06fd1",
   "metadata": {},
   "outputs": [],
   "source": [
    "# TODO: print basic information about the chat"
   ]
  },
  {
   "cell_type": "code",
   "execution_count": null,
   "id": "ea246bad",
   "metadata": {},
   "outputs": [],
   "source": [
    "chat.chat_df[chat.chat_df['is_image'] == True]"
   ]
  },
  {
   "cell_type": "code",
   "execution_count": null,
   "id": "f7f68e6b",
   "metadata": {},
   "outputs": [],
   "source": []
  },
  {
   "cell_type": "code",
   "execution_count": null,
   "id": "9ca2fc24",
   "metadata": {},
   "outputs": [],
   "source": [
    "len(chat.chat_df)"
   ]
  },
  {
   "cell_type": "markdown",
   "id": "55bb68cc",
   "metadata": {},
   "source": [
    "# NLP stuff"
   ]
  },
  {
   "cell_type": "code",
   "execution_count": null,
   "id": "57e15bab",
   "metadata": {},
   "outputs": [],
   "source": [
    "def get_most_used_lemmas(chat_df: pd.DataFrame) -> pd.Series:\n",
    "    lemmas = [lemma for msg in chat_df[chat_df['is_image'] == False]['words'] for lemma in msg]\n",
    "    return pd.Series(lemmas).value_counts()"
   ]
  },
  {
   "cell_type": "code",
   "execution_count": null,
   "id": "67a86fd7",
   "metadata": {},
   "outputs": [],
   "source": [
    "def get_most_used_words(chat_df: pd.DataFrame) -> pd.Series:\n",
    "    words = [word for msg in chat_df[chat_df['is_image'] == False]['words'] for word in msg]\n",
    "    return pd.Series(words).value_counts()"
   ]
  },
  {
   "cell_type": "code",
   "execution_count": null,
   "id": "756014fe",
   "metadata": {},
   "outputs": [],
   "source": [
    "def get_most_used_nouns(chat_df: pd.DataFrame) -> pd.Series:\n",
    "    nouns = [noun for msg in chat_df[chat_df['is_image'] == False]['words'] for noun in msg]\n",
    "    return pd.Series(nouns).value_counts()"
   ]
  },
  {
   "cell_type": "code",
   "execution_count": null,
   "id": "978de5c6",
   "metadata": {},
   "outputs": [],
   "source": [
    "def get_most_used_verbs(chat_df: pd.DataFrame) -> pd.Series:\n",
    "    verbs = [verb for msg in chat_df[chat_df['is_image'] == False]['words'] for verb in msg]\n",
    "    return pd.Series(verbs).value_counts()"
   ]
  },
  {
   "cell_type": "code",
   "execution_count": null,
   "id": "b9a25aa0",
   "metadata": {},
   "outputs": [],
   "source": [
    "def generate_wordcloud(words_series: pd.Series):\n",
    "    # Generate word cloud\n",
    "    wordcloud = WordCloud(width = 2000, height = 1000, background_color='black').generate_from_frequencies(words_series)\n",
    "    # Plot\n",
    "    fig, ax = plt.subplots(figsize=(16,8), dpi=400)\n",
    "    plt.axis(\"off\")\n",
    "    plt.imshow(wordcloud, interpolation=\"bilinear\")"
   ]
  },
  {
   "cell_type": "code",
   "execution_count": null,
   "id": "943bfd8d",
   "metadata": {},
   "outputs": [],
   "source": [
    "def get_most_used_bigrams(chat_df: pd.core.series.Series):\n",
    "    '''get most frequent bigrams for a input chat'''\n",
    "    bigrams = pd.Series([bigram for sublist in chat_df['bigrams'] for bigram in sublist])\n",
    "    return bigrams.value_counts()"
   ]
  },
  {
   "cell_type": "code",
   "execution_count": null,
   "id": "e3ac574e",
   "metadata": {},
   "outputs": [],
   "source": [
    "def get_most_used_trigrams(chat_df: pd.DataFrame) -> pd.Series:\n",
    "    '''get most frequent bigrams for a input chat'''\n",
    "    trigrams = pd.Series([x for _list in chat_df['trigrams'] for x in _list])\n",
    "    return trigrams.value_counts()"
   ]
  },
  {
   "cell_type": "code",
   "execution_count": null,
   "id": "99d010f6",
   "metadata": {},
   "outputs": [],
   "source": [
    "trigrams = get_most_used_trigrams(chat.chat_df)"
   ]
  },
  {
   "cell_type": "code",
   "execution_count": null,
   "id": "0fbfaed4",
   "metadata": {},
   "outputs": [],
   "source": [
    "bigrams = get_most_used_bigrams(chat.chat_df)"
   ]
  },
  {
   "cell_type": "code",
   "execution_count": null,
   "id": "70677eb0",
   "metadata": {},
   "outputs": [],
   "source": [
    "bigrams.head(30)"
   ]
  },
  {
   "cell_type": "code",
   "execution_count": null,
   "id": "84ab22db",
   "metadata": {},
   "outputs": [],
   "source": [
    "trigrams.head(50)"
   ]
  },
  {
   "cell_type": "code",
   "execution_count": null,
   "id": "f5a2c5a4",
   "metadata": {},
   "outputs": [],
   "source": [
    "plt.figure(figsize=(16,8))\n",
    "bigrams.sort_values(ascending=True).tail(30).plot(kind='barh')"
   ]
  },
  {
   "cell_type": "code",
   "execution_count": null,
   "id": "1019e7da",
   "metadata": {},
   "outputs": [],
   "source": [
    "def get_most_used_curse_words(chat_df):\n",
    "    with open('schimpfwortliste.txt', 'r') as infile:\n",
    "        curse_words = infile.readlines()\n",
    "        for idx, word in enumerate(curse_words):\n",
    "            curse_words[idx] = word.replace('\\n', '')\n",
    "\n",
    "    words = get_most_used_words(chat_df)\n",
    "    curse_word_usage = [word for word in words.index if word in curse_words]\n",
    "    return words[curse_word_usage]"
   ]
  },
  {
   "cell_type": "code",
   "execution_count": null,
   "id": "4f73b010",
   "metadata": {},
   "outputs": [],
   "source": [
    "generate_wordcloud(get_most_used_curse_words(chat_df))"
   ]
  },
  {
   "cell_type": "code",
   "execution_count": null,
   "id": "bafae72d",
   "metadata": {},
   "outputs": [],
   "source": [
    "chat_df['sender'].unique()"
   ]
  },
  {
   "cell_type": "markdown",
   "id": "74382cc0",
   "metadata": {},
   "source": [
    "# Basic statistics and plots"
   ]
  },
  {
   "cell_type": "code",
   "execution_count": null,
   "id": "59627b2d",
   "metadata": {},
   "outputs": [],
   "source": [
    "def plot_curse_word_usage(chat_df: pd.core.frame.DataFrame):\n",
    "    curse_word_sender_list = []\n",
    "    total_msg_counts = chat_df['sender'].value_counts()\n",
    "\n",
    "    for sender in chat_df['sender'].unique():\n",
    "        curse_word_sum = get_most_used_curse_words(chat_df[chat_df['sender'] == sender]).sum()\n",
    "        total_messages_sum = total_msg_counts[sender]\n",
    "        curse_word_sender_list.append((sender, curse_word_sum, total_messages_sum))\n",
    "        \n",
    "    curse_df = pd.DataFrame(curse_word_sender_list, columns=['sender', 'curse_word_count', 'total_msg_count'])\n",
    "    curse_df['curse_rate'] = curse_df['curse_word_count'] / curse_df['total_msg_count']\n",
    "    \n",
    "    fig, ax = plt.subplots(1, 2,sharey=True, figsize=(16,8))\n",
    "    plt.subplots_adjust(wspace = 0.05)\n",
    "    fig.suptitle('Who is the biggest pig in the chat?')\n",
    "    \n",
    "    ax[0].set_title('Curse word count')\n",
    "    ax[1].set_title('Curse rates') \n",
    "    \n",
    "    curse_word_count = sns.barplot(ax=ax[0],\n",
    "                                   data=curse_df,\n",
    "                                   x='curse_word_count',\n",
    "                                   y='sender',\n",
    "                                   order=total_msg_counts[:8].index)\n",
    "    \n",
    "    curse_word_rate = sns.barplot(ax=ax[1],\n",
    "                                  data=curse_df,\n",
    "                                  x='curse_rate',\n",
    "                                  y='sender',\n",
    "                                  order=total_msg_counts[:8].index)\n",
    "    curse_word_rate.set(ylabel=None)\n",
    "    \n",
    "    plt.show()\n",
    "    \n",
    "    "
   ]
  },
  {
   "cell_type": "code",
   "execution_count": null,
   "id": "4a733798",
   "metadata": {},
   "outputs": [],
   "source": [
    "plot_curse_word_usage(chat_df)"
   ]
  },
  {
   "cell_type": "code",
   "execution_count": null,
   "id": "fb218f6f",
   "metadata": {},
   "outputs": [],
   "source": [
    "def plot_url_usage(chat_df: pd.core.frame.DataFrame):\n",
    "    fig = plt.figure(figsize=(16,8), dpi=400)\n",
    "    g = sns.countplot(data=chat_df,\n",
    "                      x='url_domain',\n",
    "                      order=chat_df['url_domain'].value_counts()[:15].index,\n",
    "                      hue='sender',\n",
    "                      hue_order=chat_df['sender'].value_counts()[:8].index,\n",
    "                      )\n",
    "    g.set_xticklabels(g.get_xticklabels(),rotation=30)\n",
    "    plt.legend(loc='upper right')\n",
    "    plt.show()"
   ]
  },
  {
   "cell_type": "code",
   "execution_count": null,
   "id": "2447f0c4",
   "metadata": {},
   "outputs": [],
   "source": [
    "plot_url_usage(chat_df)"
   ]
  },
  {
   "cell_type": "code",
   "execution_count": null,
   "id": "6a5c00fd",
   "metadata": {},
   "outputs": [],
   "source": [
    "def get_mean_messages_per_day(chat_df: pd.core.frame.DataFrame):\n",
    "    # get first and last chat dates and create a range of dates\n",
    "    first_chat_date=chat_df['date'].min()\n",
    "    last_chat_date = chat_df['date'].max()\n",
    "    timeframe = pd.Series(pd.date_range(start=first_chat_date,end=last_chat_date).to_pydatetime()).value_counts(sort=False) \n",
    "\n",
    "    # value counts for each day that messages were sent\n",
    "    num_chat_per_day = chat_df['date'].value_counts(sort=False)\n",
    "    \n",
    "    # merge both series and subtract 1 because timeframe == 1 for every day\n",
    "    merged_value_counts = num_chat_per_day + timeframe - 1\n",
    "    merged_value_counts = merged_value_counts.fillna(0)\n",
    "    \n",
    "    return np.array(merged_value_counts).mean()"
   ]
  },
  {
   "cell_type": "code",
   "execution_count": null,
   "id": "f4dae2b1",
   "metadata": {},
   "outputs": [],
   "source": [
    "def plot_daily_activity(chat_df: pd.core.frame.DataFrame):\n",
    "    # get first and last chat dates and create a range of dates\n",
    "    first_chat_date=chat_df['date'].min()\n",
    "    last_chat_date = chat_df['date'].max()\n",
    "    timeframe = pd.Series(pd.date_range(start=first_chat_date,end=last_chat_date).to_pydatetime()).value_counts(sort=False)\n",
    "\n",
    "    # value counts for each day that messages were sent\n",
    "    num_chat_per_day = chat_df['date'].value_counts(sort=False)\n",
    "    \n",
    "    # merge both series and subtract 1 because value counts of timeframe == 1 for every day\n",
    "    merged_value_counts = num_chat_per_day + timeframe - 1\n",
    "    merged_value_counts = merged_value_counts.fillna(0)\n",
    "    \n",
    "    fig, ax = plt.subplots(figsize=(16,8), dpi=400)\n",
    "    # plot chat activity by day\n",
    "    ax.plot(merged_value_counts, label='Anzahl Nachrichten pro Tag')\n",
    "    # plot mean value\n",
    "    ax.plot(merged_value_counts.index,\n",
    "            # generate dummy array\n",
    "            np.full(len(merged_value_counts.index), merged_value_counts.mean()),\n",
    "            '--',\n",
    "            linewidth=3,\n",
    "            label=f'Durchschnitt: {merged_value_counts.mean():.3f}')\n",
    "    \n",
    "    # peak detection and plotting\n",
    "    peaks = find_peaks(merged_value_counts.values,distance=len(timeframe)/30, threshold=0.9)[0]\n",
    "    ax.plot(merged_value_counts[peaks].index, merged_value_counts[peaks].values, \"xr\")\n",
    "    \n",
    "    # add axis labels and legend\n",
    "    ax.set_ylabel('Anzahl Nachrichten')\n",
    "    ax.set_xlabel('Datum')\n",
    "    ax.set_title('Nachrichten im Zeitverlauf')\n",
    "    ax.legend(title_fontsize='large')"
   ]
  },
  {
   "cell_type": "code",
   "execution_count": null,
   "id": "2ad87b06",
   "metadata": {},
   "outputs": [],
   "source": [
    "plot_daily_activity(chat_df)"
   ]
  },
  {
   "cell_type": "code",
   "execution_count": null,
   "id": "d851dabb",
   "metadata": {},
   "outputs": [],
   "source": [
    "get_mean_messages_per_day(chat_df)"
   ]
  },
  {
   "cell_type": "code",
   "execution_count": null,
   "id": "bae80097",
   "metadata": {},
   "outputs": [],
   "source": [
    "def plot_time_to_answer_weekdays(chat_df: pd.core.frame.DataFrame):\n",
    "    \"\"\"\n",
    "    Plot answer time distributed across weekdays for the top six senders\n",
    "    \"\"\"    \n",
    "    fig1, ax1 = plt.subplots(figsize=(16,8))\n",
    "    ax1 = sns.boxplot(y=chat_df['answer_time_seconds']/60,\n",
    "                      x=chat_df['sender'],\n",
    "                      order=chat_df['sender'].value_counts().iloc[:8].index,\n",
    "                      hue=chat_df['weekday'],\n",
    "                      hue_order=['Monday', 'Tuesday', 'Wednesday', 'Thursday', 'Friday', 'Saturday', 'Sunday'],\n",
    "                      showfliers=False)\n",
    "    ax1.set_title('Antwortzeit in Minuten')\n",
    "    ax1.set_ylabel('Antwortzeit in Minuten')\n",
    "    ax1.set_xlabel('Sender')\n",
    "    ax1.legend(bbox_to_anchor=(1.02, 1), loc=2, borderaxespad=0.)\n",
    "\n",
    "    plt.show()"
   ]
  },
  {
   "cell_type": "code",
   "execution_count": null,
   "id": "6bcb9b6e",
   "metadata": {},
   "outputs": [],
   "source": []
  },
  {
   "cell_type": "code",
   "execution_count": null,
   "id": "b7fc506c",
   "metadata": {},
   "outputs": [],
   "source": [
    "plot_time_to_answer_weekdays(chat_df)"
   ]
  },
  {
   "cell_type": "code",
   "execution_count": null,
   "id": "d0a3efb3",
   "metadata": {},
   "outputs": [],
   "source": [
    "def plot_time_to_answer(chat_df: pd.core.frame.DataFrame):\n",
    "    \"\"\"\n",
    "    Plot a boxplot of the answer time of the top eight senders of the chat \n",
    "    \"\"\"\n",
    "    median_answer_times = chat_df[chat_df['sender'].isin(chat_df['sender'].value_counts()[:8].index)].groupby('sender')['answer_time_seconds'].median()/60\n",
    "        \n",
    "    fig1, ax1 = plt.subplots(figsize=(16,8))\n",
    "    ax1 = sns.boxplot(y=chat_df['answer_time_seconds']/60,\n",
    "            x=chat_df['sender'],\n",
    "            order=chat_df['sender'].value_counts()[:8].index.sort_values(),\n",
    "            showfliers=False)\n",
    "    \n",
    "    for xtick in ax1.get_xticks():\n",
    "        ax1.text(xtick, median_answer_times[xtick] + 0.1, np.around(median_answer_times[xtick], 3), \n",
    "                     horizontalalignment='center',size='large',color='w',weight='semibold')\n",
    "    \n",
    "    ax1.set_title('Antwortzeit in Minuten')\n",
    "    ax1.set_ylabel('Antwortzeit in Minuten')\n",
    "    ax1.set_xlabel('Sender')\n",
    "    plt.show()"
   ]
  },
  {
   "cell_type": "code",
   "execution_count": null,
   "id": "e3833cac",
   "metadata": {},
   "outputs": [],
   "source": [
    "plot_time_to_answer(chat_df)"
   ]
  },
  {
   "cell_type": "code",
   "execution_count": null,
   "id": "775c2176",
   "metadata": {},
   "outputs": [],
   "source": [
    "def get_mean_time_to_answer(chat_df: pd.core.frame.DataFrame):\n",
    "    return chat_df['answer_time'].mean()"
   ]
  },
  {
   "cell_type": "code",
   "execution_count": null,
   "id": "d026ef40",
   "metadata": {},
   "outputs": [],
   "source": [
    "def longest_time_of_no_chatting(chat_df):\n",
    "    # get max(time delta) of all messages\n",
    "    return chat_df['time_diff'].max()"
   ]
  },
  {
   "cell_type": "code",
   "execution_count": null,
   "id": "5280b3f9-d16c-42ac-843b-f59ad81fb33b",
   "metadata": {},
   "outputs": [],
   "source": [
    "longest_time_of_no_chatting(chat_df)"
   ]
  },
  {
   "cell_type": "code",
   "execution_count": null,
   "id": "1fbe6c39-f5d4-432d-982f-b2ed54e938a3",
   "metadata": {},
   "outputs": [],
   "source": [
    "def get_initiator_percentage(chat_df):\n",
    "    return chat_df[chat_df['message_type'] == 'initiation']['sender'].value_counts(normalize=True)"
   ]
  },
  {
   "cell_type": "code",
   "execution_count": null,
   "id": "2ac104df-054d-47b2-918c-50fe86ef39be",
   "metadata": {
    "tags": []
   },
   "outputs": [],
   "source": [
    "get_initiator_percentage(chat_df)"
   ]
  },
  {
   "cell_type": "code",
   "execution_count": null,
   "id": "ba4bbe22-6db7-49b6-bb01-e8609d33b723",
   "metadata": {},
   "outputs": [],
   "source": [
    "def get_most_used_emojis(chat_df: pd.core.frame.DataFrame):\n",
    "    emojis = [emoji for sublist in chat_df['emojis'] for emoji in sublist]\n",
    "    return pd.Series(emojis).value_counts()"
   ]
  },
  {
   "cell_type": "code",
   "execution_count": null,
   "id": "5d9625ae",
   "metadata": {},
   "outputs": [],
   "source": [
    "get_most_used_emojis(chat_df)"
   ]
  },
  {
   "cell_type": "code",
   "execution_count": null,
   "id": "5d7822a3",
   "metadata": {},
   "outputs": [],
   "source": [
    "def plot_emoji_usage(chat_df: pd.core.frame.DataFrame):\n",
    "    \"\"\"\n",
    "    Takes chat_df and creates plot with most used emojis\n",
    "    \"\"\"\n",
    "    \n",
    "    emoji_df = pd.DataFrame()\n",
    "    for sender in chat_df['sender'].unique():\n",
    "        cache_df = pd.DataFrame()\n",
    "        emojis_sender = get_most_used_emojis(chat_df[chat_df['sender'] == sender])\n",
    "        cache_df = pd.DataFrame({'sender': sender,\n",
    "                                 'emoji': emojis_sender.index,\n",
    "                                 'emoji_count': emojis_sender})\n",
    "        emoji_df = emoji_df.append(cache_df, ignore_index=True).reset_index(drop=True)\n",
    "    \n",
    "    plt.figure(figsize=(16,8))\n",
    "    g = sns.barplot(data=emoji_df,\n",
    "                    x='emoji',\n",
    "                    y='emoji_count',\n",
    "                    order= get_most_used_emojis(chat_df).head(10).index,\n",
    "                    hue='sender',\n",
    "                    hue_order=chat_df['sender'].value_counts()[:8].index,\n",
    "                    )\n",
    "\n",
    "    g.xaxis.set_tick_params(labelsize=26)\n",
    "    g.yaxis.set_tick_params(labelsize=16)\n",
    "    g.set(xlabel=None, ylabel='Emoji Count')\n",
    "    g.legend(fontsize=16)\n",
    "    plt.yticks(fontname=\"Segoe UI Emoji\")"
   ]
  },
  {
   "cell_type": "code",
   "execution_count": null,
   "id": "de5268c4",
   "metadata": {},
   "outputs": [],
   "source": [
    "plot_emoji_usage(chat_df)"
   ]
  },
  {
   "cell_type": "code",
   "execution_count": null,
   "id": "9e5f200d",
   "metadata": {},
   "outputs": [],
   "source": [
    "def get_weekday_activity(chat_df: pd.core.frame.DataFrame, weekday:str):\n",
    "    '''get total number of sent messages during the time of a given weekday'''\n",
    "    \n",
    "    # check if weekday is valid input\n",
    "    if weekday in chat_df['weekday'].values:\n",
    "        pass\n",
    "    else:\n",
    "        raise ValueError()\n",
    "        \n",
    "    # create time range of all 24h of the day\n",
    "    time_range = pd.date_range(\"00:00:00\", periods=24, freq=\"1h\").time\n",
    "    \n",
    "    # iterate over time range and get message count at each hour\n",
    "    msg_counter = []\n",
    "    for time_slot in time_range:\n",
    "        num_msg_per_hour = chat_df[(chat_df['weekday'] == weekday) &\n",
    "                                   (chat_df['hour'] == time_slot.hour)].count().values[0]\n",
    "        msg_counter.append((weekday, time_slot.hour, num_msg_per_hour))\n",
    "        \n",
    "    return msg_counter"
   ]
  },
  {
   "cell_type": "code",
   "execution_count": null,
   "id": "b58a1bb9",
   "metadata": {},
   "outputs": [],
   "source": [
    "def plot_weekday_activity(chat_df: pd.core.frame.DataFrame):\n",
    "    '''plot a heatmap with the chat activity per day and hour'''\n",
    "    \n",
    "    ## data\n",
    "    # prepare data\n",
    "    weekday_df = pd.DataFrame()\n",
    "    for weekday in chat_df['weekday'].unique():\n",
    "        cache_df = pd.DataFrame(get_weekday_activity(chat_df, weekday), columns=['weekday', 'hour', 'message_count'])\n",
    "        weekday_df = weekday_df.append(cache_df)\n",
    "    \n",
    "    # get the df into the right form\n",
    "    weekday_df = weekday_df.set_index(['hour', 'weekday'])\n",
    "    weekday_df = weekday_df.unstack(fill_value = 0)\n",
    "    \n",
    "    # get weekdays into right order\n",
    "    weekday_df = weekday_df.droplevel(0, axis=1)\n",
    "    weekday_df = weekday_df.filter(['Monday', 'Tuesday', 'Wednesday', 'Thursday', 'Friday', 'Saturday', 'Sunday'])\n",
    "    \n",
    "    ## plot\n",
    "    # figure\n",
    "    fig, ax = plt.subplots(figsize=(16, 9), dpi=300)\n",
    "    # plot heatmap\n",
    "    sns.heatmap(data = weekday_df, linewidth=0.2, cmap='Blues')\n",
    "\n",
    "    # yticks\n",
    "    yticks_labels = [\"{time_1:02}:00 - {time_2:02}:00\".format(time_1=x, time_2=x+1) for x in range(24)]\n",
    "    plt.yticks(np.arange(24) + .5, labels=yticks_labels,rotation=0)\n",
    "    # xticks\n",
    "    ax.xaxis.tick_top()\n",
    "    # axis labels\n",
    "    plt.xlabel('')\n",
    "    plt.ylabel('Tageszeit')\n",
    "    # title\n",
    "    plt.title(\"Chataktivität im Tagesverlauf\")"
   ]
  },
  {
   "cell_type": "code",
   "execution_count": null,
   "id": "a4da0191",
   "metadata": {},
   "outputs": [],
   "source": [
    "plot_weekday_activity(chat_df)"
   ]
  },
  {
   "cell_type": "code",
   "execution_count": null,
   "id": "db6037e6",
   "metadata": {},
   "outputs": [],
   "source": [
    "from scipy.signal import find_peaks"
   ]
  },
  {
   "cell_type": "code",
   "execution_count": null,
   "id": "ca7f387a",
   "metadata": {},
   "outputs": [],
   "source": [
    "def get_message_peak_dates(chat_df: pd.core.frame.DataFrame):\n",
    "    \"\"\"\n",
    "    Takes chat_df and returns the dates of peaks in messages sent\n",
    "    \"\"\"\n",
    "    \n",
    "    # get first and last chat dates and create a range of dates\n",
    "    first_chat_date=chat_df['date'].min()\n",
    "    last_chat_date = chat_df['date'].max()\n",
    "    timeframe = pd.Series(pd.date_range(start=first_chat_date,end=last_chat_date).to_pydatetime()).value_counts(sort=False)\n",
    "\n",
    "    # value counts for each day that messages were sent\n",
    "    num_chat_per_day = chat_df['date'].value_counts(sort=False)\n",
    "    \n",
    "    # merge both series and subtract 1 because value counts of timeframe == 1 for every day\n",
    "    merged_value_counts = num_chat_per_day + timeframe - 1\n",
    "    merged_value_counts = merged_value_counts.fillna(0)\n",
    "    \n",
    "    # peak detection\n",
    "    peaks = find_peaks(merged_value_counts.values,distance=len(timeframe)/30, threshold=0.9)[0]\n",
    "    peak_dates = merged_value_counts[peaks].index # type: pandas.core.indexes.datetimes.DatetimeIndex\n",
    "    # we need to convert them to array of datetime.date\n",
    "    peak_dates = pd.to_datetime(peak_dates).date\n",
    "    return peak_dates"
   ]
  },
  {
   "cell_type": "code",
   "execution_count": null,
   "id": "b110feba",
   "metadata": {},
   "outputs": [],
   "source": [
    "peak_dates = get_message_peak_dates(chat_df)"
   ]
  },
  {
   "cell_type": "code",
   "execution_count": null,
   "id": "2bbf0a63",
   "metadata": {},
   "outputs": [],
   "source": [
    "peak_dates[12]"
   ]
  },
  {
   "cell_type": "code",
   "execution_count": null,
   "id": "41a54f46",
   "metadata": {},
   "outputs": [],
   "source": [
    "import nltk\n",
    "import spacy\n",
    "from gensim import corpora\n",
    "import gensim\n",
    "from spacy.lang.de import German"
   ]
  },
  {
   "cell_type": "code",
   "execution_count": null,
   "id": "52a5f6da",
   "metadata": {},
   "outputs": [],
   "source": [
    "bigrams = get_most_used_bigrams(chat_df)"
   ]
  },
  {
   "cell_type": "code",
   "execution_count": null,
   "id": "bb0b8265",
   "metadata": {},
   "outputs": [],
   "source": [
    "bigrams_relative = bigrams / len(bigrams)"
   ]
  },
  {
   "cell_type": "code",
   "execution_count": null,
   "id": "c30d20d7",
   "metadata": {},
   "outputs": [],
   "source": [
    "lemmas = get_most_used_lemmas(chat_df)"
   ]
  },
  {
   "cell_type": "code",
   "execution_count": null,
   "id": "aefa1e1f",
   "metadata": {},
   "outputs": [],
   "source": [
    "lemmas_relative = lemmas / len(lemmas)"
   ]
  },
  {
   "cell_type": "code",
   "execution_count": null,
   "id": "7e7e7603",
   "metadata": {},
   "outputs": [],
   "source": [
    "lemmas_relative"
   ]
  },
  {
   "cell_type": "code",
   "execution_count": null,
   "id": "fc65c50c",
   "metadata": {},
   "outputs": [],
   "source": [
    "bigrams.index[0][0]"
   ]
  },
  {
   "cell_type": "code",
   "execution_count": null,
   "id": "522ccfe4",
   "metadata": {},
   "outputs": [],
   "source": [
    "lemmas_relative[bigrams.index[0][0]]"
   ]
  },
  {
   "cell_type": "code",
   "execution_count": null,
   "id": "e6a57c04",
   "metadata": {},
   "outputs": [],
   "source": [
    "lemmas_relative[bigrams.index[0][1]]"
   ]
  },
  {
   "cell_type": "code",
   "execution_count": null,
   "id": "af9a89d1",
   "metadata": {},
   "outputs": [],
   "source": [
    "def calc_pmi(chat_df):\n",
    "    # get bigrams\n",
    "    bigrams = get_most_used_bigrams(chat_df)\n",
    "    bigrams_relative = bigrams / len(bigrams)\n",
    "    \n",
    "    # get lemmas\n",
    "    lemmas = get_most_used_lemmas(chat_df)\n",
    "    lemmas_relative = lemmas / len(lemmas)\n",
    "    \n",
    "    # calc pmi\n",
    "    output_dict = {}\n",
    "    for bigram in bigrams_relative.index:\n",
    "        px_y = bigrams_relative[bigram]\n",
    "        px = lemmas_relative[bigram[0]]\n",
    "        py = lemmas_relative[bigram[1]]\n",
    "\n",
    "        pmi = np.log(px_y / (px*py))\n",
    "        output_dict[str(bigram)] = pmi\n",
    "    \n",
    "    pmi_series = pd.Series(output_dict).sort_values(ascending=False)\n",
    "    \n",
    "    return pmi_series"
   ]
  },
  {
   "cell_type": "code",
   "execution_count": null,
   "id": "5cc15975",
   "metadata": {},
   "outputs": [],
   "source": [
    "all_pmi = calc_pmi(chat_df)"
   ]
  },
  {
   "cell_type": "code",
   "execution_count": null,
   "id": "ccb692bb",
   "metadata": {},
   "outputs": [],
   "source": [
    "peak_bigrams = get_most_used_bigrams(chat_df[chat_df['date'] == peak_dates[9]])"
   ]
  },
  {
   "cell_type": "code",
   "execution_count": null,
   "id": "a27c5597",
   "metadata": {},
   "outputs": [],
   "source": [
    "output_dict = {}\n",
    "for bigram in peak_bigrams.index:\n",
    "    output_dict[str(bigram)] = all_pmi[str(bigram)]\n",
    "    \n",
    "peak_pmi = pd.Series(output_dict).sort_values(ascending=False)"
   ]
  },
  {
   "cell_type": "code",
   "execution_count": null,
   "id": "7bef587b",
   "metadata": {},
   "outputs": [],
   "source": [
    "peak_pmi.head(30)"
   ]
  },
  {
   "cell_type": "code",
   "execution_count": null,
   "id": "0cf45ce4",
   "metadata": {},
   "outputs": [],
   "source": [
    "output_dict = {}\n",
    "for bigram in bigrams_relative.index:\n",
    "    px_y = bigrams_relative[bigram]\n",
    "    px = lemmas_relative[bigram[0]]\n",
    "    py = lemmas_relative[bigram[1]]\n",
    "    \n",
    "    pmi = np.log(px_y / (px*py))\n",
    "    output_dict[bigram] = pmi\n",
    "    "
   ]
  },
  {
   "cell_type": "code",
   "execution_count": null,
   "id": "1044f1e3",
   "metadata": {},
   "outputs": [],
   "source": [
    "pd.Series(output_dict).sort_values(ascending=False)[50:100]"
   ]
  },
  {
   "cell_type": "code",
   "execution_count": null,
   "id": "6e6f2784",
   "metadata": {},
   "outputs": [],
   "source": [
    "dictionary = corpora.Dictionary(text_data)\n",
    "corpus = [dictionary.doc2bow(text) for text in text_data]"
   ]
  },
  {
   "cell_type": "code",
   "execution_count": null,
   "id": "7980fc94",
   "metadata": {},
   "outputs": [],
   "source": []
  },
  {
   "cell_type": "code",
   "execution_count": null,
   "id": "5b1f3642",
   "metadata": {},
   "outputs": [],
   "source": [
    "from sklearn.feature_extraction.text import TfidfTransformer\n",
    "from sklearn.feature_extraction.text import CountVectorizer\n",
    "from sklearn.pipeline import Pipeline\n",
    "\n",
    "# vocabulary = ['this', 'document', 'first', 'is', 'second', 'the',\n",
    "#                'and', 'one']\n",
    "# pipe = Pipeline([('count', CountVectorizer(vocabulary=vocabulary)),\n",
    "#                   ('tfid', TfidfTransformer())]).fit(corpus)\n",
    "\n",
    "# pipe['count'].transform(corpus).toarray()\n",
    "\n",
    "# pipe['tfid'].idf_"
   ]
  },
  {
   "cell_type": "code",
   "execution_count": null,
   "id": "e7002774",
   "metadata": {},
   "outputs": [],
   "source": [
    "from sklearn.feature_extraction.text import TfidfVectorizer\n",
    "tfidf_vectorizer = TfidfVectorizer()\n",
    "tfidf_vectorizer.fit_transform(text_data.values)"
   ]
  },
  {
   "cell_type": "code",
   "execution_count": null,
   "id": "f7d04893",
   "metadata": {},
   "outputs": [],
   "source": [
    "tfidf_vectorizer.transform(['saufen'])"
   ]
  },
  {
   "cell_type": "code",
   "execution_count": null,
   "id": "cdf0ee1a",
   "metadata": {},
   "outputs": [],
   "source": [
    "NUM_TOPICS = 10\n",
    "ldamodel = gensim.models.ldamodel.LdaModel(corpus, num_topics = NUM_TOPICS, id2word=dictionary, passes=15)\n",
    "#ldamodel.save('model5.gensim')\n",
    "topics = ldamodel.print_topics(num_words=10)\n",
    "for topic in topics:\n",
    "    print(topic)"
   ]
  },
  {
   "cell_type": "code",
   "execution_count": null,
   "id": "7e720a37",
   "metadata": {},
   "outputs": [],
   "source": [
    "pd.set_option('display.max_colwidth', None) "
   ]
  },
  {
   "cell_type": "code",
   "execution_count": null,
   "id": "f7dec034",
   "metadata": {},
   "outputs": [],
   "source": [
    "chat_df[chat_df['date'] == (peak_dates[5])][['sender','demojized_msg']][50:100]"
   ]
  },
  {
   "cell_type": "markdown",
   "id": "0902e689",
   "metadata": {},
   "source": [
    "# to be done:"
   ]
  },
  {
   "cell_type": "code",
   "execution_count": null,
   "id": "eaf76e22",
   "metadata": {},
   "outputs": [],
   "source": [
    "# solve all problems with .apply() :-/ --> way faster and cleaner"
   ]
  },
  {
   "cell_type": "code",
   "execution_count": null,
   "id": "c52124a4-9158-48f2-bf63-268a31d0e0e5",
   "metadata": {},
   "outputs": [],
   "source": [
    "chat_df.columns"
   ]
  },
  {
   "cell_type": "code",
   "execution_count": null,
   "id": "8be26422-53e2-4b4d-bfa0-bd8afc18e096",
   "metadata": {},
   "outputs": [],
   "source": [
    "chat_df['time_diff'].describe()"
   ]
  },
  {
   "cell_type": "code",
   "execution_count": null,
   "id": "c743d9fc",
   "metadata": {},
   "outputs": [],
   "source": [
    "# some function that predicts the \"one long messages\" vs. \"multiple short messages in a row\" type of sender thing"
   ]
  },
  {
   "cell_type": "code",
   "execution_count": null,
   "id": "c1957121",
   "metadata": {},
   "outputs": [],
   "source": [
    "def get_chat_topic_for_peak_chat_activity():\n",
    "    pass\n",
    "\n",
    "# get first and last chat dates and create a range of dates\n",
    "first_chat_date=chat_df['date'].min()\n",
    "last_chat_date = chat_df['date'].max()\n",
    "timeframe = pd.date_range(start=first_chat_date,end=last_chat_date).to_pydatetime()\n",
    "\n",
    "# iterate over all dates and count how many messages were sent\n",
    "num_chat_per_day = [chat_df[chat_df['date'] == date.date()].count().values[0] for date in timeframe]"
   ]
  },
  {
   "cell_type": "code",
   "execution_count": null,
   "id": "b2fe1450-5e3c-4860-9331-058237f97001",
   "metadata": {},
   "outputs": [],
   "source": [
    "def plot_media_sent():\n",
    "    fig, ax = plt.figure(figsize=(16,8), dpi=300)\n",
    "    "
   ]
  },
  {
   "cell_type": "code",
   "execution_count": null,
   "id": "f0bc5c8b",
   "metadata": {},
   "outputs": [],
   "source": [
    "chat_df[chat_df['is_media'] == True]['sender'].value_counts()"
   ]
  }
 ],
 "metadata": {
  "kernelspec": {
   "display_name": "Python 3 (ipykernel)",
   "language": "python",
   "name": "python3"
  },
  "language_info": {
   "codemirror_mode": {
    "name": "ipython",
    "version": 3
   },
   "file_extension": ".py",
   "mimetype": "text/x-python",
   "name": "python",
   "nbconvert_exporter": "python",
   "pygments_lexer": "ipython3",
   "version": "3.8.12"
  }
 },
 "nbformat": 4,
 "nbformat_minor": 5
}
